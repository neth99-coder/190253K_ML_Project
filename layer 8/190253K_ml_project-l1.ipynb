{
 "cells": [
  {
   "cell_type": "code",
   "execution_count": 10,
   "id": "2c209051",
   "metadata": {},
   "outputs": [],
   "source": [
    "# import libraries\n",
    "import numpy as np\n",
    "import pandas as pd\n",
    "from sklearn.preprocessing import StandardScaler\n",
    "from sklearn.ensemble import RandomForestClassifier\n",
    "from sklearn.svm import SVC\n",
    "from sklearn.neighbors import KNeighborsClassifier\n",
    "from sklearn.svm import SVC\n",
    "from sklearn.feature_selection import SelectKBest\n",
    "from sklearn.feature_selection import f_classif\n",
    "from sklearn.model_selection import cross_val_score, GridSearchCV\n",
    "from sklearn.metrics import classification_report, mean_squared_error\n",
    "from sklearn.model_selection import RandomizedSearchCV\n",
    "from sklearn.decomposition import PCA\n",
    "import matplotlib.pyplot as plt"
   ]
  },
  {
   "cell_type": "code",
   "execution_count": 11,
   "id": "d2bf978d",
   "metadata": {},
   "outputs": [],
   "source": [
    "# read the test and train data files\n",
    "train_df = pd.read_csv(\"train.csv\")\n",
    "valid_df = pd.read_csv(\"valid.csv\")\n",
    "test_df = pd.read_csv(\"test.csv\")"
   ]
  },
  {
   "cell_type": "code",
   "execution_count": 12,
   "id": "c62e04dd",
   "metadata": {},
   "outputs": [],
   "source": [
    "def to_csv(predictions_old, predictions_new, reduced_X_train, label_no):\n",
    "    data = []\n",
    "    cols = [\"Predicted labels before feature engineering\", \"Predicted labels after feature engineering\", \"No of new features\"]\n",
    "\n",
    "    for index in range(1, 257):\n",
    "        cols.append(f\"new_feature_{index}\")\n",
    "    \n",
    "    for index, pred in enumerate(predictions_old):\n",
    "        data.append([predictions_old[index], predictions_new[index]])\n",
    "        \n",
    "    final_no_of_features = reduced_X_train.shape[1]\n",
    "    for index, row in enumerate(data):\n",
    "        data[index].append(final_no_of_features)\n",
    "        if index < len(reduced_X_train):\n",
    "            data[index] = np.concatenate((data[index], reduced_X_train[index]))\n",
    "\n",
    "    blank_array = np.empty((1, (256 - final_no_of_features)))\n",
    "    blank_array.fill(np.nan)\n",
    "    for index,row in enumerate(data):\n",
    "        data[index] = np.concatenate((data[index], blank_array[0]))\n",
    "\n",
    "    data_frame = pd.DataFrame(data, columns=cols)\n",
    "    data_frame.to_csv(f\"190253K_{label_no}.csv\",na_rep='')"
   ]
  },
  {
   "cell_type": "markdown",
   "id": "f3fe2e1a",
   "metadata": {},
   "source": [
    "Lable 1"
   ]
  },
  {
   "cell_type": "code",
   "execution_count": 13,
   "id": "e565356b",
   "metadata": {},
   "outputs": [],
   "source": [
    "train_1_df = train_df.iloc[:,:-3]\n",
    "valid_1_df = valid_df.iloc[:, :-3]\n",
    "test_1_df = test_df.iloc[:, 1:]"
   ]
  },
  {
   "cell_type": "code",
   "execution_count": 46,
   "id": "373fad94",
   "metadata": {},
   "outputs": [
    {
     "data": {
      "text/plain": [
       "feature_1      0\n",
       "feature_2      0\n",
       "feature_3      0\n",
       "feature_4      0\n",
       "feature_5      0\n",
       "              ..\n",
       "feature_765    0\n",
       "feature_766    0\n",
       "feature_767    0\n",
       "feature_768    0\n",
       "label_1        0\n",
       "Length: 769, dtype: int64"
      ]
     },
     "execution_count": 46,
     "metadata": {},
     "output_type": "execute_result"
    }
   ],
   "source": [
    "train_1_df.isna().sum()"
   ]
  },
  {
   "cell_type": "code",
   "execution_count": 47,
   "id": "7a4b6ab3",
   "metadata": {},
   "outputs": [
    {
     "data": {
      "text/plain": [
       "feature_1      0\n",
       "feature_2      0\n",
       "feature_3      0\n",
       "feature_4      0\n",
       "feature_5      0\n",
       "              ..\n",
       "feature_765    0\n",
       "feature_766    0\n",
       "feature_767    0\n",
       "feature_768    0\n",
       "label_1        0\n",
       "Length: 769, dtype: int64"
      ]
     },
     "execution_count": 47,
     "metadata": {},
     "output_type": "execute_result"
    }
   ],
   "source": [
    "valid_1_df.isna().sum()"
   ]
  },
  {
   "cell_type": "code",
   "execution_count": 14,
   "id": "6bd5644b",
   "metadata": {},
   "outputs": [],
   "source": [
    "# splitting the test and train datasets into X and Y values\n",
    "X_1_train= train_1_df.iloc[:,0:-1].values\n",
    "Y_1_train = train_1_df.iloc[:,-1].values\n",
    "X_1_valid = valid_1_df.iloc[:,0:-1].values\n",
    "Y_1_valid = valid_1_df.iloc[:,-1].values\n",
    "X_1_test = test_1_df.iloc[:,:].values"
   ]
  },
  {
   "cell_type": "code",
   "execution_count": 15,
   "id": "1e723ba6",
   "metadata": {},
   "outputs": [],
   "source": [
    "# scalling and fitting data\n",
    "scaler = StandardScaler()\n",
    "scaler.fit(X_1_train)\n",
    "\n",
    "X_1_train = scaler.transform(X_1_train)\n",
    "X_1_valid = scaler.transform(X_1_valid)\n",
    "X_1_test = scaler.transform(X_1_test)"
   ]
  },
  {
   "cell_type": "code",
   "execution_count": 81,
   "id": "c263f588",
   "metadata": {},
   "outputs": [
    {
     "name": "stdout",
     "output_type": "stream",
     "text": [
      "Mean accuracy % of the model:  RandomForestClassifier() 86.08\n",
      "Mean accuracy % of the model:  SVC(kernel='linear') 92.48\n",
      "Mean accuracy % of the model:  KNeighborsClassifier() 82.72\n"
     ]
    }
   ],
   "source": [
    "# compare models using cross validation\n",
    "models = [RandomForestClassifier(), SVC(kernel='linear'), KNeighborsClassifier(n_neighbors=5)]\n",
    "\n",
    "for model in models:\n",
    "    cv_score = cross_val_score(model, X_1_train, Y_1_train, cv=5)\n",
    "    mean_accuracy = round((sum(cv_score)/len(cv_score))*100,2)\n",
    "    print(\"Mean accuracy % of the model: \", model, mean_accuracy)"
   ]
  },
  {
   "cell_type": "code",
   "execution_count": 16,
   "id": "bf72cba4",
   "metadata": {},
   "outputs": [
    {
     "data": {
      "text/html": [
       "<style>#sk-container-id-1 {color: black;background-color: white;}#sk-container-id-1 pre{padding: 0;}#sk-container-id-1 div.sk-toggleable {background-color: white;}#sk-container-id-1 label.sk-toggleable__label {cursor: pointer;display: block;width: 100%;margin-bottom: 0;padding: 0.3em;box-sizing: border-box;text-align: center;}#sk-container-id-1 label.sk-toggleable__label-arrow:before {content: \"▸\";float: left;margin-right: 0.25em;color: #696969;}#sk-container-id-1 label.sk-toggleable__label-arrow:hover:before {color: black;}#sk-container-id-1 div.sk-estimator:hover label.sk-toggleable__label-arrow:before {color: black;}#sk-container-id-1 div.sk-toggleable__content {max-height: 0;max-width: 0;overflow: hidden;text-align: left;background-color: #f0f8ff;}#sk-container-id-1 div.sk-toggleable__content pre {margin: 0.2em;color: black;border-radius: 0.25em;background-color: #f0f8ff;}#sk-container-id-1 input.sk-toggleable__control:checked~div.sk-toggleable__content {max-height: 200px;max-width: 100%;overflow: auto;}#sk-container-id-1 input.sk-toggleable__control:checked~label.sk-toggleable__label-arrow:before {content: \"▾\";}#sk-container-id-1 div.sk-estimator input.sk-toggleable__control:checked~label.sk-toggleable__label {background-color: #d4ebff;}#sk-container-id-1 div.sk-label input.sk-toggleable__control:checked~label.sk-toggleable__label {background-color: #d4ebff;}#sk-container-id-1 input.sk-hidden--visually {border: 0;clip: rect(1px 1px 1px 1px);clip: rect(1px, 1px, 1px, 1px);height: 1px;margin: -1px;overflow: hidden;padding: 0;position: absolute;width: 1px;}#sk-container-id-1 div.sk-estimator {font-family: monospace;background-color: #f0f8ff;border: 1px dotted black;border-radius: 0.25em;box-sizing: border-box;margin-bottom: 0.5em;}#sk-container-id-1 div.sk-estimator:hover {background-color: #d4ebff;}#sk-container-id-1 div.sk-parallel-item::after {content: \"\";width: 100%;border-bottom: 1px solid gray;flex-grow: 1;}#sk-container-id-1 div.sk-label:hover label.sk-toggleable__label {background-color: #d4ebff;}#sk-container-id-1 div.sk-serial::before {content: \"\";position: absolute;border-left: 1px solid gray;box-sizing: border-box;top: 0;bottom: 0;left: 50%;z-index: 0;}#sk-container-id-1 div.sk-serial {display: flex;flex-direction: column;align-items: center;background-color: white;padding-right: 0.2em;padding-left: 0.2em;position: relative;}#sk-container-id-1 div.sk-item {position: relative;z-index: 1;}#sk-container-id-1 div.sk-parallel {display: flex;align-items: stretch;justify-content: center;background-color: white;position: relative;}#sk-container-id-1 div.sk-item::before, #sk-container-id-1 div.sk-parallel-item::before {content: \"\";position: absolute;border-left: 1px solid gray;box-sizing: border-box;top: 0;bottom: 0;left: 50%;z-index: -1;}#sk-container-id-1 div.sk-parallel-item {display: flex;flex-direction: column;z-index: 1;position: relative;background-color: white;}#sk-container-id-1 div.sk-parallel-item:first-child::after {align-self: flex-end;width: 50%;}#sk-container-id-1 div.sk-parallel-item:last-child::after {align-self: flex-start;width: 50%;}#sk-container-id-1 div.sk-parallel-item:only-child::after {width: 0;}#sk-container-id-1 div.sk-dashed-wrapped {border: 1px dashed gray;margin: 0 0.4em 0.5em 0.4em;box-sizing: border-box;padding-bottom: 0.4em;background-color: white;}#sk-container-id-1 div.sk-label label {font-family: monospace;font-weight: bold;display: inline-block;line-height: 1.2em;}#sk-container-id-1 div.sk-label-container {text-align: center;}#sk-container-id-1 div.sk-container {/* jupyter's `normalize.less` sets `[hidden] { display: none; }` but bootstrap.min.css set `[hidden] { display: none !important; }` so we also need the `!important` here to be able to override the default hidden behavior on the sphinx rendered scikit-learn.org. See: https://github.com/scikit-learn/scikit-learn/issues/21755 */display: inline-block !important;position: relative;}#sk-container-id-1 div.sk-text-repr-fallback {display: none;}</style><div id=\"sk-container-id-1\" class=\"sk-top-container\"><div class=\"sk-text-repr-fallback\"><pre>SVC(kernel=&#x27;linear&#x27;)</pre><b>In a Jupyter environment, please rerun this cell to show the HTML representation or trust the notebook. <br />On GitHub, the HTML representation is unable to render, please try loading this page with nbviewer.org.</b></div><div class=\"sk-container\" hidden><div class=\"sk-item\"><div class=\"sk-estimator sk-toggleable\"><input class=\"sk-toggleable__control sk-hidden--visually\" id=\"sk-estimator-id-1\" type=\"checkbox\" checked><label for=\"sk-estimator-id-1\" class=\"sk-toggleable__label sk-toggleable__label-arrow\">SVC</label><div class=\"sk-toggleable__content\"><pre>SVC(kernel=&#x27;linear&#x27;)</pre></div></div></div></div></div>"
      ],
      "text/plain": [
       "SVC(kernel='linear')"
      ]
     },
     "execution_count": 16,
     "metadata": {},
     "output_type": "execute_result"
    }
   ],
   "source": [
    "# Use SVC since it has the highest accuracy\n",
    "model = SVC(kernel='linear')\n",
    "model.fit(X_1_train, Y_1_train)"
   ]
  },
  {
   "cell_type": "code",
   "execution_count": 17,
   "id": "196809df",
   "metadata": {
    "scrolled": true
   },
   "outputs": [
    {
     "name": "stdout",
     "output_type": "stream",
     "text": [
      "              precision    recall  f1-score   support\n",
      "\n",
      "           1       0.87      1.00      0.93        13\n",
      "           2       1.00      0.89      0.94         9\n",
      "           3       0.86      1.00      0.92        12\n",
      "           4       1.00      0.94      0.97        16\n",
      "           5       1.00      0.94      0.97        18\n",
      "           6       1.00      0.89      0.94         9\n",
      "           7       0.79      0.88      0.83        17\n",
      "           8       1.00      1.00      1.00        14\n",
      "           9       1.00      0.91      0.95        11\n",
      "          10       0.89      1.00      0.94         8\n",
      "          11       0.95      1.00      0.97        19\n",
      "          12       1.00      1.00      1.00         7\n",
      "          13       1.00      0.91      0.95        11\n",
      "          14       0.93      0.87      0.90        15\n",
      "          15       1.00      0.94      0.97        17\n",
      "          16       1.00      1.00      1.00        14\n",
      "          17       1.00      0.93      0.96        14\n",
      "          18       0.90      0.95      0.92        19\n",
      "          19       0.88      0.93      0.90        15\n",
      "          20       0.83      0.91      0.87        11\n",
      "          21       1.00      0.86      0.92        14\n",
      "          22       1.00      0.91      0.95        11\n",
      "          23       0.91      1.00      0.95        10\n",
      "          24       0.80      1.00      0.89        12\n",
      "          25       1.00      0.91      0.95        11\n",
      "          26       1.00      1.00      1.00         7\n",
      "          27       0.88      0.88      0.88        16\n",
      "          28       1.00      1.00      1.00        11\n",
      "          29       1.00      0.87      0.93        15\n",
      "          30       1.00      0.88      0.93         8\n",
      "          31       1.00      1.00      1.00        12\n",
      "          32       1.00      0.89      0.94         9\n",
      "          33       1.00      1.00      1.00         6\n",
      "          34       1.00      1.00      1.00        13\n",
      "          35       0.78      0.88      0.82         8\n",
      "          36       0.86      1.00      0.92        18\n",
      "          37       1.00      0.94      0.97        16\n",
      "          38       0.91      0.91      0.91        11\n",
      "          39       0.87      1.00      0.93        13\n",
      "          40       0.92      0.92      0.92        12\n",
      "          41       0.78      0.70      0.74        10\n",
      "          42       1.00      1.00      1.00        12\n",
      "          43       0.92      1.00      0.96        12\n",
      "          44       1.00      0.95      0.97        19\n",
      "          45       0.93      1.00      0.97        14\n",
      "          46       1.00      1.00      1.00        11\n",
      "          47       0.89      1.00      0.94         8\n",
      "          48       1.00      0.94      0.97        17\n",
      "          49       0.93      1.00      0.96        13\n",
      "          50       1.00      1.00      1.00        13\n",
      "          51       1.00      0.75      0.86         8\n",
      "          52       1.00      0.91      0.95        11\n",
      "          53       0.83      1.00      0.91        15\n",
      "          54       1.00      0.78      0.88         9\n",
      "          55       1.00      1.00      1.00         8\n",
      "          56       0.90      0.90      0.90        10\n",
      "          57       1.00      1.00      1.00        18\n",
      "          58       1.00      0.90      0.95        20\n",
      "          59       0.75      0.90      0.82        10\n",
      "          60       1.00      0.80      0.89        10\n",
      "\n",
      "    accuracy                           0.94       750\n",
      "   macro avg       0.95      0.94      0.94       750\n",
      "weighted avg       0.95      0.94      0.94       750\n",
      "\n"
     ]
    }
   ],
   "source": [
    "y_1_valid_pred = model.predict(X_1_valid)\n",
    "y_1_test_pred = model.predict(X_1_test)\n",
    "print(classification_report(Y_1_valid, y_1_valid_pred))"
   ]
  },
  {
   "cell_type": "code",
   "execution_count": 18,
   "id": "6f3117aa",
   "metadata": {
    "scrolled": true
   },
   "outputs": [],
   "source": [
    "# Create a SelectKBest instance with f_classif scoring function and select top 2 features\n",
    "k = 500\n",
    "selector = SelectKBest(score_func=f_classif, k=k)\n",
    "\n",
    "# Fit and transform the data\n",
    "X_1_train = selector.fit_transform(X_1_train, Y_1_train)\n",
    "X_1_valid = selector.transform(X_1_valid)\n",
    "X_1_test = selector.transform(X_1_test)"
   ]
  },
  {
   "cell_type": "code",
   "execution_count": 19,
   "id": "9c785ba0",
   "metadata": {},
   "outputs": [
    {
     "data": {
      "text/plain": [
       "(28520, 500)"
      ]
     },
     "execution_count": 19,
     "metadata": {},
     "output_type": "execute_result"
    }
   ],
   "source": [
    "X_1_train.shape"
   ]
  },
  {
   "cell_type": "code",
   "execution_count": 20,
   "id": "3babdbcd",
   "metadata": {},
   "outputs": [
    {
     "name": "stdout",
     "output_type": "stream",
     "text": [
      "              precision    recall  f1-score   support\n",
      "\n",
      "           1       0.80      0.92      0.86        13\n",
      "           2       1.00      0.89      0.94         9\n",
      "           3       0.79      0.92      0.85        12\n",
      "           4       1.00      0.94      0.97        16\n",
      "           5       0.80      0.89      0.84        18\n",
      "           6       1.00      0.89      0.94         9\n",
      "           7       0.79      0.88      0.83        17\n",
      "           8       1.00      0.93      0.96        14\n",
      "           9       1.00      0.91      0.95        11\n",
      "          10       1.00      1.00      1.00         8\n",
      "          11       1.00      0.95      0.97        19\n",
      "          12       1.00      1.00      1.00         7\n",
      "          13       1.00      0.91      0.95        11\n",
      "          14       0.81      0.87      0.84        15\n",
      "          15       0.94      0.94      0.94        17\n",
      "          16       0.93      1.00      0.97        14\n",
      "          17       0.93      0.93      0.93        14\n",
      "          18       0.95      0.95      0.95        19\n",
      "          19       0.81      0.87      0.84        15\n",
      "          20       0.77      0.91      0.83        11\n",
      "          21       0.85      0.79      0.81        14\n",
      "          22       1.00      1.00      1.00        11\n",
      "          23       0.83      1.00      0.91        10\n",
      "          24       0.77      0.83      0.80        12\n",
      "          25       0.91      0.91      0.91        11\n",
      "          26       1.00      1.00      1.00         7\n",
      "          27       1.00      0.88      0.93        16\n",
      "          28       1.00      1.00      1.00        11\n",
      "          29       0.87      0.87      0.87        15\n",
      "          30       0.88      0.88      0.88         8\n",
      "          31       1.00      0.92      0.96        12\n",
      "          32       1.00      0.78      0.88         9\n",
      "          33       1.00      1.00      1.00         6\n",
      "          34       0.92      0.92      0.92        13\n",
      "          35       0.78      0.88      0.82         8\n",
      "          36       0.95      1.00      0.97        18\n",
      "          37       1.00      0.94      0.97        16\n",
      "          38       1.00      1.00      1.00        11\n",
      "          39       0.81      1.00      0.90        13\n",
      "          40       0.92      0.92      0.92        12\n",
      "          41       0.89      0.80      0.84        10\n",
      "          42       0.92      0.92      0.92        12\n",
      "          43       0.86      1.00      0.92        12\n",
      "          44       1.00      0.95      0.97        19\n",
      "          45       0.87      0.93      0.90        14\n",
      "          46       1.00      0.91      0.95        11\n",
      "          47       0.88      0.88      0.88         8\n",
      "          48       1.00      0.94      0.97        17\n",
      "          49       0.93      1.00      0.96        13\n",
      "          50       1.00      1.00      1.00        13\n",
      "          51       0.88      0.88      0.88         8\n",
      "          52       0.91      0.91      0.91        11\n",
      "          53       1.00      1.00      1.00        15\n",
      "          54       1.00      0.78      0.88         9\n",
      "          55       1.00      0.88      0.93         8\n",
      "          56       1.00      0.80      0.89        10\n",
      "          57       1.00      0.94      0.97        18\n",
      "          58       0.95      0.95      0.95        20\n",
      "          59       0.90      0.90      0.90        10\n",
      "          60       1.00      0.90      0.95        10\n",
      "\n",
      "    accuracy                           0.92       750\n",
      "   macro avg       0.93      0.92      0.92       750\n",
      "weighted avg       0.93      0.92      0.92       750\n",
      "\n"
     ]
    }
   ],
   "source": [
    "model.fit(X_1_train, Y_1_train)\n",
    "y_1_pred_after = model.predict(X_1_valid)\n",
    "print(classification_report(Y_1_valid, y_1_pred_after))"
   ]
  },
  {
   "cell_type": "code",
   "execution_count": 21,
   "id": "d4bf31f5",
   "metadata": {},
   "outputs": [],
   "source": [
    "pca=PCA(0.85)\n",
    "pca = pca.fit(X_1_train)\n",
    "\n",
    "x_1_train_pca=pca.fit_transform(X_1_train)\n",
    "x_1_valid_pca = pca.transform(X_1_valid)\n",
    "x_1_test_pca = pca.transform(X_1_test)"
   ]
  },
  {
   "cell_type": "code",
   "execution_count": 22,
   "id": "1f082200",
   "metadata": {},
   "outputs": [
    {
     "name": "stdout",
     "output_type": "stream",
     "text": [
      "              precision    recall  f1-score   support\n",
      "\n",
      "           1       0.85      0.85      0.85        13\n",
      "           2       0.89      0.89      0.89         9\n",
      "           3       0.71      0.83      0.77        12\n",
      "           4       0.88      0.94      0.91        16\n",
      "           5       0.82      0.78      0.80        18\n",
      "           6       1.00      0.78      0.88         9\n",
      "           7       0.75      0.88      0.81        17\n",
      "           8       0.83      0.71      0.77        14\n",
      "           9       1.00      0.82      0.90        11\n",
      "          10       0.80      1.00      0.89         8\n",
      "          11       0.90      0.95      0.92        19\n",
      "          12       1.00      1.00      1.00         7\n",
      "          13       0.83      0.91      0.87        11\n",
      "          14       0.92      0.80      0.86        15\n",
      "          15       1.00      0.76      0.87        17\n",
      "          16       0.65      0.93      0.76        14\n",
      "          17       0.93      0.93      0.93        14\n",
      "          18       0.94      0.84      0.89        19\n",
      "          19       0.81      0.87      0.84        15\n",
      "          20       0.91      0.91      0.91        11\n",
      "          21       0.83      0.71      0.77        14\n",
      "          22       1.00      0.91      0.95        11\n",
      "          23       0.67      1.00      0.80        10\n",
      "          24       0.85      0.92      0.88        12\n",
      "          25       0.77      0.91      0.83        11\n",
      "          26       1.00      1.00      1.00         7\n",
      "          27       0.93      0.88      0.90        16\n",
      "          28       1.00      1.00      1.00        11\n",
      "          29       0.72      0.87      0.79        15\n",
      "          30       0.83      0.62      0.71         8\n",
      "          31       0.92      0.92      0.92        12\n",
      "          32       0.78      0.78      0.78         9\n",
      "          33       0.86      1.00      0.92         6\n",
      "          34       0.92      0.92      0.92        13\n",
      "          35       0.67      0.75      0.71         8\n",
      "          36       0.89      0.89      0.89        18\n",
      "          37       0.86      0.75      0.80        16\n",
      "          38       0.91      0.91      0.91        11\n",
      "          39       0.69      0.85      0.76        13\n",
      "          40       0.77      0.83      0.80        12\n",
      "          41       0.56      0.50      0.53        10\n",
      "          42       0.92      0.92      0.92        12\n",
      "          43       0.71      0.83      0.77        12\n",
      "          44       1.00      0.84      0.91        19\n",
      "          45       0.85      0.79      0.81        14\n",
      "          46       0.82      0.82      0.82        11\n",
      "          47       0.73      1.00      0.84         8\n",
      "          48       0.94      0.94      0.94        17\n",
      "          49       0.92      0.85      0.88        13\n",
      "          50       1.00      0.85      0.92        13\n",
      "          51       0.86      0.75      0.80         8\n",
      "          52       0.82      0.82      0.82        11\n",
      "          53       0.86      0.80      0.83        15\n",
      "          54       0.86      0.67      0.75         9\n",
      "          55       0.78      0.88      0.82         8\n",
      "          56       0.89      0.80      0.84        10\n",
      "          57       1.00      0.89      0.94        18\n",
      "          58       0.85      0.85      0.85        20\n",
      "          59       0.70      0.70      0.70        10\n",
      "          60       0.75      0.60      0.67        10\n",
      "\n",
      "    accuracy                           0.85       750\n",
      "   macro avg       0.85      0.85      0.85       750\n",
      "weighted avg       0.86      0.85      0.85       750\n",
      "\n"
     ]
    }
   ],
   "source": [
    "# Use SVC\n",
    "model.fit(x_1_train_pca, Y_1_train)\n",
    "\n",
    "y_1_pred_after = model.predict(x_1_valid_pca)\n",
    "print(classification_report(Y_1_valid, y_1_pred_after))"
   ]
  },
  {
   "cell_type": "code",
   "execution_count": 23,
   "id": "63513a67",
   "metadata": {},
   "outputs": [
    {
     "data": {
      "text/plain": [
       "(28520, 108)"
      ]
     },
     "execution_count": 23,
     "metadata": {},
     "output_type": "execute_result"
    }
   ],
   "source": [
    "x_1_train_pca.shape"
   ]
  },
  {
   "cell_type": "code",
   "execution_count": 24,
   "id": "213bd861",
   "metadata": {},
   "outputs": [],
   "source": [
    "param_grid = {\n",
    "    'C': [0.1, 1, 10],          # Regularization parameter\n",
    "    'kernel': ['linear', 'rbf'],  # Kernel type\n",
    "    'gamma': ['scale', 'auto']   # Kernel coefficient for 'rbf' kernel\n",
    "}"
   ]
  },
  {
   "cell_type": "code",
   "execution_count": 25,
   "id": "736845d2",
   "metadata": {
    "scrolled": true
   },
   "outputs": [],
   "source": [
    "grid_search = GridSearchCV(model, param_grid, cv=5, scoring='accuracy')"
   ]
  },
  {
   "cell_type": "code",
   "execution_count": 26,
   "id": "415c2f71",
   "metadata": {},
   "outputs": [
    {
     "data": {
      "text/html": [
       "<style>#sk-container-id-2 {color: black;background-color: white;}#sk-container-id-2 pre{padding: 0;}#sk-container-id-2 div.sk-toggleable {background-color: white;}#sk-container-id-2 label.sk-toggleable__label {cursor: pointer;display: block;width: 100%;margin-bottom: 0;padding: 0.3em;box-sizing: border-box;text-align: center;}#sk-container-id-2 label.sk-toggleable__label-arrow:before {content: \"▸\";float: left;margin-right: 0.25em;color: #696969;}#sk-container-id-2 label.sk-toggleable__label-arrow:hover:before {color: black;}#sk-container-id-2 div.sk-estimator:hover label.sk-toggleable__label-arrow:before {color: black;}#sk-container-id-2 div.sk-toggleable__content {max-height: 0;max-width: 0;overflow: hidden;text-align: left;background-color: #f0f8ff;}#sk-container-id-2 div.sk-toggleable__content pre {margin: 0.2em;color: black;border-radius: 0.25em;background-color: #f0f8ff;}#sk-container-id-2 input.sk-toggleable__control:checked~div.sk-toggleable__content {max-height: 200px;max-width: 100%;overflow: auto;}#sk-container-id-2 input.sk-toggleable__control:checked~label.sk-toggleable__label-arrow:before {content: \"▾\";}#sk-container-id-2 div.sk-estimator input.sk-toggleable__control:checked~label.sk-toggleable__label {background-color: #d4ebff;}#sk-container-id-2 div.sk-label input.sk-toggleable__control:checked~label.sk-toggleable__label {background-color: #d4ebff;}#sk-container-id-2 input.sk-hidden--visually {border: 0;clip: rect(1px 1px 1px 1px);clip: rect(1px, 1px, 1px, 1px);height: 1px;margin: -1px;overflow: hidden;padding: 0;position: absolute;width: 1px;}#sk-container-id-2 div.sk-estimator {font-family: monospace;background-color: #f0f8ff;border: 1px dotted black;border-radius: 0.25em;box-sizing: border-box;margin-bottom: 0.5em;}#sk-container-id-2 div.sk-estimator:hover {background-color: #d4ebff;}#sk-container-id-2 div.sk-parallel-item::after {content: \"\";width: 100%;border-bottom: 1px solid gray;flex-grow: 1;}#sk-container-id-2 div.sk-label:hover label.sk-toggleable__label {background-color: #d4ebff;}#sk-container-id-2 div.sk-serial::before {content: \"\";position: absolute;border-left: 1px solid gray;box-sizing: border-box;top: 0;bottom: 0;left: 50%;z-index: 0;}#sk-container-id-2 div.sk-serial {display: flex;flex-direction: column;align-items: center;background-color: white;padding-right: 0.2em;padding-left: 0.2em;position: relative;}#sk-container-id-2 div.sk-item {position: relative;z-index: 1;}#sk-container-id-2 div.sk-parallel {display: flex;align-items: stretch;justify-content: center;background-color: white;position: relative;}#sk-container-id-2 div.sk-item::before, #sk-container-id-2 div.sk-parallel-item::before {content: \"\";position: absolute;border-left: 1px solid gray;box-sizing: border-box;top: 0;bottom: 0;left: 50%;z-index: -1;}#sk-container-id-2 div.sk-parallel-item {display: flex;flex-direction: column;z-index: 1;position: relative;background-color: white;}#sk-container-id-2 div.sk-parallel-item:first-child::after {align-self: flex-end;width: 50%;}#sk-container-id-2 div.sk-parallel-item:last-child::after {align-self: flex-start;width: 50%;}#sk-container-id-2 div.sk-parallel-item:only-child::after {width: 0;}#sk-container-id-2 div.sk-dashed-wrapped {border: 1px dashed gray;margin: 0 0.4em 0.5em 0.4em;box-sizing: border-box;padding-bottom: 0.4em;background-color: white;}#sk-container-id-2 div.sk-label label {font-family: monospace;font-weight: bold;display: inline-block;line-height: 1.2em;}#sk-container-id-2 div.sk-label-container {text-align: center;}#sk-container-id-2 div.sk-container {/* jupyter's `normalize.less` sets `[hidden] { display: none; }` but bootstrap.min.css set `[hidden] { display: none !important; }` so we also need the `!important` here to be able to override the default hidden behavior on the sphinx rendered scikit-learn.org. See: https://github.com/scikit-learn/scikit-learn/issues/21755 */display: inline-block !important;position: relative;}#sk-container-id-2 div.sk-text-repr-fallback {display: none;}</style><div id=\"sk-container-id-2\" class=\"sk-top-container\"><div class=\"sk-text-repr-fallback\"><pre>GridSearchCV(cv=5, estimator=SVC(kernel=&#x27;linear&#x27;),\n",
       "             param_grid={&#x27;C&#x27;: [0.1, 1, 10], &#x27;gamma&#x27;: [&#x27;scale&#x27;, &#x27;auto&#x27;],\n",
       "                         &#x27;kernel&#x27;: [&#x27;linear&#x27;, &#x27;rbf&#x27;]},\n",
       "             scoring=&#x27;accuracy&#x27;)</pre><b>In a Jupyter environment, please rerun this cell to show the HTML representation or trust the notebook. <br />On GitHub, the HTML representation is unable to render, please try loading this page with nbviewer.org.</b></div><div class=\"sk-container\" hidden><div class=\"sk-item sk-dashed-wrapped\"><div class=\"sk-label-container\"><div class=\"sk-label sk-toggleable\"><input class=\"sk-toggleable__control sk-hidden--visually\" id=\"sk-estimator-id-2\" type=\"checkbox\" ><label for=\"sk-estimator-id-2\" class=\"sk-toggleable__label sk-toggleable__label-arrow\">GridSearchCV</label><div class=\"sk-toggleable__content\"><pre>GridSearchCV(cv=5, estimator=SVC(kernel=&#x27;linear&#x27;),\n",
       "             param_grid={&#x27;C&#x27;: [0.1, 1, 10], &#x27;gamma&#x27;: [&#x27;scale&#x27;, &#x27;auto&#x27;],\n",
       "                         &#x27;kernel&#x27;: [&#x27;linear&#x27;, &#x27;rbf&#x27;]},\n",
       "             scoring=&#x27;accuracy&#x27;)</pre></div></div></div><div class=\"sk-parallel\"><div class=\"sk-parallel-item\"><div class=\"sk-item\"><div class=\"sk-label-container\"><div class=\"sk-label sk-toggleable\"><input class=\"sk-toggleable__control sk-hidden--visually\" id=\"sk-estimator-id-3\" type=\"checkbox\" ><label for=\"sk-estimator-id-3\" class=\"sk-toggleable__label sk-toggleable__label-arrow\">estimator: SVC</label><div class=\"sk-toggleable__content\"><pre>SVC(kernel=&#x27;linear&#x27;)</pre></div></div></div><div class=\"sk-serial\"><div class=\"sk-item\"><div class=\"sk-estimator sk-toggleable\"><input class=\"sk-toggleable__control sk-hidden--visually\" id=\"sk-estimator-id-4\" type=\"checkbox\" ><label for=\"sk-estimator-id-4\" class=\"sk-toggleable__label sk-toggleable__label-arrow\">SVC</label><div class=\"sk-toggleable__content\"><pre>SVC(kernel=&#x27;linear&#x27;)</pre></div></div></div></div></div></div></div></div></div></div>"
      ],
      "text/plain": [
       "GridSearchCV(cv=5, estimator=SVC(kernel='linear'),\n",
       "             param_grid={'C': [0.1, 1, 10], 'gamma': ['scale', 'auto'],\n",
       "                         'kernel': ['linear', 'rbf']},\n",
       "             scoring='accuracy')"
      ]
     },
     "execution_count": 26,
     "metadata": {},
     "output_type": "execute_result"
    }
   ],
   "source": [
    "# Fit the GridSearchCV instance to the training data\n",
    "grid_search.fit(x_1_train_pca, Y_1_train)"
   ]
  },
  {
   "cell_type": "code",
   "execution_count": 27,
   "id": "fa18b6f8",
   "metadata": {},
   "outputs": [],
   "source": [
    "# Get the best hyperparameters and model\n",
    "best_params = grid_search.best_params_\n",
    "best_model = grid_search.best_estimator_"
   ]
  },
  {
   "cell_type": "code",
   "execution_count": 28,
   "id": "41dc4f57",
   "metadata": {},
   "outputs": [
    {
     "name": "stdout",
     "output_type": "stream",
     "text": [
      "Best Hyperparameters: {'C': 10, 'gamma': 'scale', 'kernel': 'rbf'}\n",
      "              precision    recall  f1-score   support\n",
      "\n",
      "           1       0.86      0.92      0.89        13\n",
      "           2       1.00      1.00      1.00         9\n",
      "           3       1.00      1.00      1.00        12\n",
      "           4       1.00      1.00      1.00        16\n",
      "           5       0.94      0.89      0.91        18\n",
      "           6       1.00      1.00      1.00         9\n",
      "           7       0.84      0.94      0.89        17\n",
      "           8       1.00      0.86      0.92        14\n",
      "           9       1.00      0.91      0.95        11\n",
      "          10       1.00      1.00      1.00         8\n",
      "          11       1.00      0.95      0.97        19\n",
      "          12       1.00      1.00      1.00         7\n",
      "          13       1.00      0.82      0.90        11\n",
      "          14       1.00      0.87      0.93        15\n",
      "          15       1.00      0.88      0.94        17\n",
      "          16       1.00      0.93      0.96        14\n",
      "          17       1.00      1.00      1.00        14\n",
      "          18       0.95      0.95      0.95        19\n",
      "          19       0.82      0.93      0.87        15\n",
      "          20       1.00      1.00      1.00        11\n",
      "          21       0.93      0.93      0.93        14\n",
      "          22       1.00      0.91      0.95        11\n",
      "          23       0.91      1.00      0.95        10\n",
      "          24       0.69      0.92      0.79        12\n",
      "          25       1.00      0.91      0.95        11\n",
      "          26       1.00      1.00      1.00         7\n",
      "          27       0.94      1.00      0.97        16\n",
      "          28       1.00      1.00      1.00        11\n",
      "          29       1.00      0.87      0.93        15\n",
      "          30       0.80      1.00      0.89         8\n",
      "          31       1.00      0.92      0.96        12\n",
      "          32       1.00      1.00      1.00         9\n",
      "          33       0.75      1.00      0.86         6\n",
      "          34       1.00      0.85      0.92        13\n",
      "          35       0.89      1.00      0.94         8\n",
      "          36       0.94      0.94      0.94        18\n",
      "          37       1.00      0.88      0.93        16\n",
      "          38       1.00      1.00      1.00        11\n",
      "          39       1.00      1.00      1.00        13\n",
      "          40       0.92      0.92      0.92        12\n",
      "          41       0.83      1.00      0.91        10\n",
      "          42       1.00      1.00      1.00        12\n",
      "          43       1.00      1.00      1.00        12\n",
      "          44       1.00      0.95      0.97        19\n",
      "          45       1.00      1.00      1.00        14\n",
      "          46       1.00      0.91      0.95        11\n",
      "          47       0.88      0.88      0.88         8\n",
      "          48       0.94      0.94      0.94        17\n",
      "          49       1.00      1.00      1.00        13\n",
      "          50       1.00      1.00      1.00        13\n",
      "          51       0.89      1.00      0.94         8\n",
      "          52       0.85      1.00      0.92        11\n",
      "          53       0.94      1.00      0.97        15\n",
      "          54       1.00      0.89      0.94         9\n",
      "          55       1.00      1.00      1.00         8\n",
      "          56       0.80      0.80      0.80        10\n",
      "          57       1.00      0.94      0.97        18\n",
      "          58       1.00      1.00      1.00        20\n",
      "          59       0.83      1.00      0.91        10\n",
      "          60       0.91      1.00      0.95        10\n",
      "\n",
      "    accuracy                           0.95       750\n",
      "   macro avg       0.95      0.95      0.95       750\n",
      "weighted avg       0.96      0.95      0.95       750\n",
      "\n"
     ]
    }
   ],
   "source": [
    "# Evaluate the best model on the test set\n",
    "y_1_pred_after = best_model.predict(x_1_valid_pca)\n",
    "\n",
    "print(\"Best Hyperparameters:\", best_params)\n",
    "print(classification_report(Y_1_valid, y_1_pred_after))\n"
   ]
  },
  {
   "cell_type": "code",
   "execution_count": 30,
   "id": "f1dd6e06-d353-4593-ab71-2ba88013d5e7",
   "metadata": {},
   "outputs": [],
   "source": [
    "preds = best_model.predict(x_1_test_pca)"
   ]
  },
  {
   "cell_type": "code",
   "execution_count": 31,
   "id": "db6edeee",
   "metadata": {},
   "outputs": [],
   "source": [
    "data_frame = pd.DataFrame(preds, columns=[\"label_1\"])\n",
    "data_frame.to_csv(f\"190253K_1.csv\",na_rep='')"
   ]
  },
  {
   "cell_type": "code",
   "execution_count": null,
   "id": "6fb756fe",
   "metadata": {},
   "outputs": [],
   "source": []
  }
 ],
 "metadata": {
  "kernelspec": {
   "display_name": "Python 3 (ipykernel)",
   "language": "python",
   "name": "python3"
  },
  "language_info": {
   "codemirror_mode": {
    "name": "ipython",
    "version": 3
   },
   "file_extension": ".py",
   "mimetype": "text/x-python",
   "name": "python",
   "nbconvert_exporter": "python",
   "pygments_lexer": "ipython3",
   "version": "3.11.4"
  }
 },
 "nbformat": 4,
 "nbformat_minor": 5
}
