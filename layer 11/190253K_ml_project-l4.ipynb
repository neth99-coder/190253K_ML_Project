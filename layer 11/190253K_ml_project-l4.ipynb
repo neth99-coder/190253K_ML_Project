{
 "cells": [
  {
   "cell_type": "code",
   "execution_count": 1,
   "id": "6adf2b44",
   "metadata": {},
   "outputs": [],
   "source": [
    "# import libraries\n",
    "import numpy as np\n",
    "import pandas as pd\n",
    "from sklearn.preprocessing import StandardScaler\n",
    "from sklearn.ensemble import RandomForestClassifier\n",
    "from sklearn.svm import SVC\n",
    "from sklearn.neighbors import KNeighborsClassifier\n",
    "from sklearn.svm import SVC\n",
    "from sklearn.feature_selection import SelectKBest\n",
    "from sklearn.feature_selection import f_classif\n",
    "from sklearn.model_selection import cross_val_score, GridSearchCV\n",
    "from sklearn.metrics import classification_report, mean_squared_error\n",
    "from sklearn.model_selection import RandomizedSearchCV\n",
    "from sklearn.decomposition import PCA\n",
    "from sklearn.impute import SimpleImputer\n",
    "import matplotlib.pyplot as plt\n",
    "from sklearn.linear_model import LogisticRegression"
   ]
  },
  {
   "cell_type": "code",
   "execution_count": 2,
   "id": "20091884",
   "metadata": {},
   "outputs": [],
   "source": [
    "# read the test and train data files\n",
    "train_df = pd.read_csv(\"train.csv\")\n",
    "valid_df = pd.read_csv(\"valid.csv\")\n",
    "test_df = pd.read_csv(\"test.csv\")"
   ]
  },
  {
   "cell_type": "markdown",
   "id": "01aab81a",
   "metadata": {},
   "source": [
    "Label 4"
   ]
  },
  {
   "cell_type": "code",
   "execution_count": 3,
   "id": "de9d49a7",
   "metadata": {},
   "outputs": [],
   "source": [
    "train_4_df = train_df.iloc[:, :]\n",
    "valid_4_df = valid_df.iloc[:, :]\n",
    "test_4_df = test_df.iloc[:, 1:]\n",
    "\n",
    "train_4_df.drop(columns=[\"label_1\", \"label_2\", \"label_3\"], inplace=True)\n",
    "valid_4_df.drop(columns=[\"label_1\", \"label_2\", \"label_3\"], inplace=True)"
   ]
  },
  {
   "cell_type": "code",
   "execution_count": 4,
   "id": "fa4fec7b",
   "metadata": {},
   "outputs": [
    {
     "data": {
      "text/plain": [
       "feature_1      0\n",
       "feature_2      0\n",
       "feature_3      0\n",
       "feature_4      0\n",
       "feature_5      0\n",
       "              ..\n",
       "feature_765    0\n",
       "feature_766    0\n",
       "feature_767    0\n",
       "feature_768    0\n",
       "label_4        0\n",
       "Length: 769, dtype: int64"
      ]
     },
     "execution_count": 4,
     "metadata": {},
     "output_type": "execute_result"
    }
   ],
   "source": [
    "train_4_df.isna().sum()"
   ]
  },
  {
   "cell_type": "code",
   "execution_count": 5,
   "id": "26f0fb52",
   "metadata": {},
   "outputs": [
    {
     "data": {
      "text/plain": [
       "feature_1      0\n",
       "feature_2      0\n",
       "feature_3      0\n",
       "feature_4      0\n",
       "feature_5      0\n",
       "              ..\n",
       "feature_765    0\n",
       "feature_766    0\n",
       "feature_767    0\n",
       "feature_768    0\n",
       "label_4        0\n",
       "Length: 769, dtype: int64"
      ]
     },
     "execution_count": 5,
     "metadata": {},
     "output_type": "execute_result"
    }
   ],
   "source": [
    "valid_4_df.isna().sum()"
   ]
  },
  {
   "cell_type": "code",
   "execution_count": 4,
   "id": "62ae2976",
   "metadata": {},
   "outputs": [],
   "source": [
    "# splitting the test and train datasets into X and Y values\n",
    "X_4_train= train_4_df.iloc[:,0:-1].values\n",
    "Y_4_train = train_4_df.iloc[:,-1].values\n",
    "X_4_valid = valid_4_df.iloc[:,0:-1].values\n",
    "Y_4_valid = valid_4_df.iloc[:,-1].values\n",
    "X_4_test = test_4_df.iloc[:,:].values"
   ]
  },
  {
   "cell_type": "code",
   "execution_count": 5,
   "id": "3be9d493",
   "metadata": {},
   "outputs": [],
   "source": [
    "# scalling and fitting data\n",
    "scaler = StandardScaler()\n",
    "scaler.fit(X_4_train)\n",
    "\n",
    "X_4_train = scaler.transform(X_4_train)\n",
    "X_4_valid = scaler.transform(X_4_valid)\n",
    "X_4_test = scaler.transform(X_4_test)"
   ]
  },
  {
   "cell_type": "code",
   "execution_count": 8,
   "id": "93f7c67d",
   "metadata": {},
   "outputs": [
    {
     "name": "stdout",
     "output_type": "stream",
     "text": [
      "Mean accuracy % of the model:  RandomForestClassifier() 73.74\n",
      "Mean accuracy % of the model:  SVC(kernel='linear') 85.33\n",
      "Mean accuracy % of the model:  KNeighborsClassifier() 82.98\n"
     ]
    }
   ],
   "source": [
    "# compare models using cross validation\n",
    "models = [RandomForestClassifier(), SVC(kernel='linear'), KNeighborsClassifier(n_neighbors=5)]\n",
    "\n",
    "for model in models:\n",
    "    cv_score = cross_val_score(model, X_4_train, Y_4_train, cv=5)\n",
    "    mean_accuracy = round((sum(cv_score)/len(cv_score))*100,2)\n",
    "    print(\"Mean accuracy % of the model: \", model, mean_accuracy)"
   ]
  },
  {
   "cell_type": "code",
   "execution_count": 6,
   "id": "cc935c34",
   "metadata": {},
   "outputs": [
    {
     "name": "stderr",
     "output_type": "stream",
     "text": [
      "/home/poorna/miniconda3/envs/lab/lib/python3.11/site-packages/sklearn/linear_model/_logistic.py:458: ConvergenceWarning: lbfgs failed to converge (status=1):\n",
      "STOP: TOTAL NO. of ITERATIONS REACHED LIMIT.\n",
      "\n",
      "Increase the number of iterations (max_iter) or scale the data as shown in:\n",
      "    https://scikit-learn.org/stable/modules/preprocessing.html\n",
      "Please also refer to the documentation for alternative solver options:\n",
      "    https://scikit-learn.org/stable/modules/linear_model.html#logistic-regression\n",
      "  n_iter_i = _check_optimize_result(\n"
     ]
    },
    {
     "data": {
      "text/html": [
       "<style>#sk-container-id-1 {color: black;background-color: white;}#sk-container-id-1 pre{padding: 0;}#sk-container-id-1 div.sk-toggleable {background-color: white;}#sk-container-id-1 label.sk-toggleable__label {cursor: pointer;display: block;width: 100%;margin-bottom: 0;padding: 0.3em;box-sizing: border-box;text-align: center;}#sk-container-id-1 label.sk-toggleable__label-arrow:before {content: \"▸\";float: left;margin-right: 0.25em;color: #696969;}#sk-container-id-1 label.sk-toggleable__label-arrow:hover:before {color: black;}#sk-container-id-1 div.sk-estimator:hover label.sk-toggleable__label-arrow:before {color: black;}#sk-container-id-1 div.sk-toggleable__content {max-height: 0;max-width: 0;overflow: hidden;text-align: left;background-color: #f0f8ff;}#sk-container-id-1 div.sk-toggleable__content pre {margin: 0.2em;color: black;border-radius: 0.25em;background-color: #f0f8ff;}#sk-container-id-1 input.sk-toggleable__control:checked~div.sk-toggleable__content {max-height: 200px;max-width: 100%;overflow: auto;}#sk-container-id-1 input.sk-toggleable__control:checked~label.sk-toggleable__label-arrow:before {content: \"▾\";}#sk-container-id-1 div.sk-estimator input.sk-toggleable__control:checked~label.sk-toggleable__label {background-color: #d4ebff;}#sk-container-id-1 div.sk-label input.sk-toggleable__control:checked~label.sk-toggleable__label {background-color: #d4ebff;}#sk-container-id-1 input.sk-hidden--visually {border: 0;clip: rect(1px 1px 1px 1px);clip: rect(1px, 1px, 1px, 1px);height: 1px;margin: -1px;overflow: hidden;padding: 0;position: absolute;width: 1px;}#sk-container-id-1 div.sk-estimator {font-family: monospace;background-color: #f0f8ff;border: 1px dotted black;border-radius: 0.25em;box-sizing: border-box;margin-bottom: 0.5em;}#sk-container-id-1 div.sk-estimator:hover {background-color: #d4ebff;}#sk-container-id-1 div.sk-parallel-item::after {content: \"\";width: 100%;border-bottom: 1px solid gray;flex-grow: 1;}#sk-container-id-1 div.sk-label:hover label.sk-toggleable__label {background-color: #d4ebff;}#sk-container-id-1 div.sk-serial::before {content: \"\";position: absolute;border-left: 1px solid gray;box-sizing: border-box;top: 0;bottom: 0;left: 50%;z-index: 0;}#sk-container-id-1 div.sk-serial {display: flex;flex-direction: column;align-items: center;background-color: white;padding-right: 0.2em;padding-left: 0.2em;position: relative;}#sk-container-id-1 div.sk-item {position: relative;z-index: 1;}#sk-container-id-1 div.sk-parallel {display: flex;align-items: stretch;justify-content: center;background-color: white;position: relative;}#sk-container-id-1 div.sk-item::before, #sk-container-id-1 div.sk-parallel-item::before {content: \"\";position: absolute;border-left: 1px solid gray;box-sizing: border-box;top: 0;bottom: 0;left: 50%;z-index: -1;}#sk-container-id-1 div.sk-parallel-item {display: flex;flex-direction: column;z-index: 1;position: relative;background-color: white;}#sk-container-id-1 div.sk-parallel-item:first-child::after {align-self: flex-end;width: 50%;}#sk-container-id-1 div.sk-parallel-item:last-child::after {align-self: flex-start;width: 50%;}#sk-container-id-1 div.sk-parallel-item:only-child::after {width: 0;}#sk-container-id-1 div.sk-dashed-wrapped {border: 1px dashed gray;margin: 0 0.4em 0.5em 0.4em;box-sizing: border-box;padding-bottom: 0.4em;background-color: white;}#sk-container-id-1 div.sk-label label {font-family: monospace;font-weight: bold;display: inline-block;line-height: 1.2em;}#sk-container-id-1 div.sk-label-container {text-align: center;}#sk-container-id-1 div.sk-container {/* jupyter's `normalize.less` sets `[hidden] { display: none; }` but bootstrap.min.css set `[hidden] { display: none !important; }` so we also need the `!important` here to be able to override the default hidden behavior on the sphinx rendered scikit-learn.org. See: https://github.com/scikit-learn/scikit-learn/issues/21755 */display: inline-block !important;position: relative;}#sk-container-id-1 div.sk-text-repr-fallback {display: none;}</style><div id=\"sk-container-id-1\" class=\"sk-top-container\"><div class=\"sk-text-repr-fallback\"><pre>LogisticRegression()</pre><b>In a Jupyter environment, please rerun this cell to show the HTML representation or trust the notebook. <br />On GitHub, the HTML representation is unable to render, please try loading this page with nbviewer.org.</b></div><div class=\"sk-container\" hidden><div class=\"sk-item\"><div class=\"sk-estimator sk-toggleable\"><input class=\"sk-toggleable__control sk-hidden--visually\" id=\"sk-estimator-id-1\" type=\"checkbox\" checked><label for=\"sk-estimator-id-1\" class=\"sk-toggleable__label sk-toggleable__label-arrow\">LogisticRegression</label><div class=\"sk-toggleable__content\"><pre>LogisticRegression()</pre></div></div></div></div></div>"
      ],
      "text/plain": [
       "LogisticRegression()"
      ]
     },
     "execution_count": 6,
     "metadata": {},
     "output_type": "execute_result"
    }
   ],
   "source": [
    "# Use SVC since it has the highest accuracy\n",
    "model = LogisticRegression()\n",
    "model.fit(X_4_train, Y_4_train)"
   ]
  },
  {
   "cell_type": "code",
   "execution_count": 7,
   "id": "d77cf1c7",
   "metadata": {},
   "outputs": [
    {
     "name": "stdout",
     "output_type": "stream",
     "text": [
      "              precision    recall  f1-score   support\n",
      "\n",
      "           0       0.89      0.81      0.85        21\n",
      "           1       1.00      0.82      0.90        11\n",
      "           2       0.81      0.81      0.81        27\n",
      "           3       1.00      1.00      1.00         8\n",
      "           4       0.73      0.73      0.73        15\n",
      "           5       0.90      0.82      0.86        11\n",
      "           6       0.94      0.97      0.95       532\n",
      "           7       0.96      0.81      0.88        32\n",
      "           8       0.94      0.89      0.92        19\n",
      "           9       1.00      0.82      0.90        17\n",
      "          10       1.00      0.60      0.75        10\n",
      "          11       1.00      0.91      0.95        11\n",
      "          12       0.72      0.81      0.76        26\n",
      "          13       1.00      0.70      0.82        10\n",
      "\n",
      "    accuracy                           0.92       750\n",
      "   macro avg       0.92      0.82      0.86       750\n",
      "weighted avg       0.93      0.92      0.92       750\n",
      "\n"
     ]
    }
   ],
   "source": [
    "y_4_valid_pred = model.predict(X_4_valid)\n",
    "y_4_test_pred = model.predict(X_4_test)\n",
    "print(classification_report(Y_4_valid, y_4_valid_pred))"
   ]
  },
  {
   "cell_type": "code",
   "execution_count": 13,
   "id": "2031b623",
   "metadata": {},
   "outputs": [
    {
     "data": {
      "text/plain": [
       "<Axes: title={'center': 'Imbalanced data'}, xlabel='label_4'>"
      ]
     },
     "execution_count": 13,
     "metadata": {},
     "output_type": "execute_result"
    },
    {
     "data": {
      "image/png": "[encoded data removed]",
      "text/plain": [
       "<Figure size 640x480 with 1 Axes>"
      ]
     },
     "metadata": {},
     "output_type": "display_data"
    }
   ],
   "source": [
    "train_4_df['label_4'].value_counts().plot(kind='bar',title='Imbalanced data')"
   ]
  },
  {
   "cell_type": "code",
   "execution_count": 14,
   "id": "f00f7f9f",
   "metadata": {},
   "outputs": [
    {
     "name": "stdout",
     "output_type": "stream",
     "text": [
      "Requirement already satisfied: imbalanced-learn in /home/poorna/miniconda3/envs/lab/lib/python3.11/site-packages (0.11.0)\n",
      "\u001b[33mWARNING: Retrying (Retry(total=4, connect=None, read=None, redirect=None, status=None)) after connection broken by 'ReadTimeoutError(\"HTTPSConnectionPool(host='pypi.org', port=443): Read timed out. (read timeout=15)\")': /simple/imbalanced-learn/\u001b[0m\u001b[33m\n",
      "\u001b[0m\u001b[33mWARNING: Retrying (Retry(total=3, connect=None, read=None, redirect=None, status=None)) after connection broken by 'ReadTimeoutError(\"HTTPSConnectionPool(host='pypi.org', port=443): Read timed out. (read timeout=15)\")': /simple/imbalanced-learn/\u001b[0m\u001b[33m\n",
      "\u001b[0m\u001b[33mWARNING: Retrying (Retry(total=2, connect=None, read=None, redirect=None, status=None)) after connection broken by 'ReadTimeoutError(\"HTTPSConnectionPool(host='pypi.org', port=443): Read timed out. (read timeout=15)\")': /simple/imbalanced-learn/\u001b[0m\u001b[33m\n",
      "\u001b[0m\u001b[33mWARNING: Retrying (Retry(total=1, connect=None, read=None, redirect=None, status=None)) after connection broken by 'ReadTimeoutError(\"HTTPSConnectionPool(host='pypi.org', port=443): Read timed out. (read timeout=15)\")': /simple/imbalanced-learn/\u001b[0m\u001b[33m\n",
      "\u001b[0m\u001b[33mWARNING: Retrying (Retry(total=0, connect=None, read=None, redirect=None, status=None)) after connection broken by 'ReadTimeoutError(\"HTTPSConnectionPool(host='pypi.org', port=443): Read timed out. (read timeout=15)\")': /simple/imbalanced-learn/\u001b[0m\u001b[33m\n",
      "\u001b[0mRequirement already satisfied: numpy>=1.17.3 in /home/poorna/miniconda3/envs/lab/lib/python3.11/site-packages (from imbalanced-learn) (1.25.2)\n",
      "Requirement already satisfied: scipy>=1.5.0 in /home/poorna/miniconda3/envs/lab/lib/python3.11/site-packages (from imbalanced-learn) (1.11.1)\n",
      "Requirement already satisfied: scikit-learn>=1.0.2 in /home/poorna/miniconda3/envs/lab/lib/python3.11/site-packages (from imbalanced-learn) (1.2.2)\n",
      "Requirement already satisfied: joblib>=1.1.1 in /home/poorna/miniconda3/envs/lab/lib/python3.11/site-packages (from imbalanced-learn) (1.3.2)\n",
      "Requirement already satisfied: threadpoolctl>=2.0.0 in /home/poorna/miniconda3/envs/lab/lib/python3.11/site-packages (from imbalanced-learn) (3.2.0)\n"
     ]
    }
   ],
   "source": [
    "!pip install -U imbalanced-learn"
   ]
  },
  {
   "cell_type": "code",
   "execution_count": 8,
   "id": "64df17e7",
   "metadata": {},
   "outputs": [],
   "source": [
    "from imblearn.combine import SMOTETomek"
   ]
  },
  {
   "cell_type": "code",
   "execution_count": 9,
   "id": "197abd14",
   "metadata": {},
   "outputs": [],
   "source": [
    "# resampling the data\n",
    "\n",
    "resampler = SMOTETomek(random_state=0)\n",
    "X_4_train, Y_4_train = resampler.fit_resample(X_4_train, Y_4_train)"
   ]
  },
  {
   "cell_type": "code",
   "execution_count": 10,
   "id": "702e6d50",
   "metadata": {},
   "outputs": [],
   "source": [
    "# Create a SelectKBest instance with f_classif scoring function and select top 2 features\n",
    "k = 500\n",
    "selector = SelectKBest(score_func=f_classif, k=k)\n",
    "\n",
    "# Fit and transform the data\n",
    "X_4_train = selector.fit_transform(X_4_train, Y_4_train)\n",
    "X_4_valid = selector.transform(X_4_valid)\n",
    "X_4_test = selector.transform(X_4_test)"
   ]
  },
  {
   "cell_type": "code",
   "execution_count": 11,
   "id": "8f2d7a1a",
   "metadata": {},
   "outputs": [
    {
     "data": {
      "text/plain": [
       "(279132, 500)"
      ]
     },
     "execution_count": 11,
     "metadata": {},
     "output_type": "execute_result"
    }
   ],
   "source": [
    "X_4_train.shape"
   ]
  },
  {
   "cell_type": "code",
   "execution_count": 12,
   "id": "195867f6",
   "metadata": {},
   "outputs": [
    {
     "name": "stdout",
     "output_type": "stream",
     "text": [
      "              precision    recall  f1-score   support\n",
      "\n",
      "           0       0.67      0.95      0.78        21\n",
      "           1       0.77      0.91      0.83        11\n",
      "           2       0.55      0.81      0.66        27\n",
      "           3       0.80      1.00      0.89         8\n",
      "           4       0.67      0.93      0.78        15\n",
      "           5       0.50      0.82      0.62        11\n",
      "           6       0.96      0.82      0.88       532\n",
      "           7       0.61      0.84      0.71        32\n",
      "           8       0.89      0.89      0.89        19\n",
      "           9       0.79      0.88      0.83        17\n",
      "          10       0.54      0.70      0.61        10\n",
      "          11       0.91      0.91      0.91        11\n",
      "          12       0.46      0.81      0.58        26\n",
      "          13       0.70      0.70      0.70        10\n",
      "\n",
      "    accuracy                           0.83       750\n",
      "   macro avg       0.70      0.86      0.76       750\n",
      "weighted avg       0.87      0.83      0.84       750\n",
      "\n"
     ]
    },
    {
     "name": "stderr",
     "output_type": "stream",
     "text": [
      "/home/poorna/miniconda3/envs/lab/lib/python3.11/site-packages/sklearn/linear_model/_logistic.py:458: ConvergenceWarning: lbfgs failed to converge (status=1):\n",
      "STOP: TOTAL NO. of ITERATIONS REACHED LIMIT.\n",
      "\n",
      "Increase the number of iterations (max_iter) or scale the data as shown in:\n",
      "    https://scikit-learn.org/stable/modules/preprocessing.html\n",
      "Please also refer to the documentation for alternative solver options:\n",
      "    https://scikit-learn.org/stable/modules/linear_model.html#logistic-regression\n",
      "  n_iter_i = _check_optimize_result(\n"
     ]
    }
   ],
   "source": [
    "model.fit(X_4_train, Y_4_train)\n",
    "y_4_pred_after = model.predict(X_4_valid)\n",
    "print(classification_report(Y_4_valid, y_4_pred_after))"
   ]
  },
  {
   "cell_type": "code",
   "execution_count": 13,
   "id": "c627ae92-7492-4f3b-87b5-b81e1572f2b7",
   "metadata": {},
   "outputs": [],
   "source": [
    "preds_after_kbest = model.predict(X_4_test)"
   ]
  },
  {
   "cell_type": "code",
   "execution_count": 26,
   "id": "91f8017a",
   "metadata": {},
   "outputs": [],
   "source": [
    "# pca=PCA(0.95)\n",
    "# pca = pca.fit(X_4_train)\n",
    "\n",
    "# x_4_train_pca=pca.fit_transform(X_4_train)\n",
    "# x_4_valid_pca = pca.transform(X_4_valid)\n",
    "# x_4_test_pca = pca.transform(X_4_test)"
   ]
  },
  {
   "cell_type": "code",
   "execution_count": 27,
   "id": "c607b420",
   "metadata": {},
   "outputs": [
    {
     "name": "stdout",
     "output_type": "stream",
     "text": [
      "              precision    recall  f1-score   support\n",
      "\n",
      "           0       0.38      0.81      0.52        21\n",
      "           1       0.39      0.82      0.53        11\n",
      "           2       0.31      0.67      0.42        27\n",
      "           3       0.36      1.00      0.53         8\n",
      "           4       0.44      0.93      0.60        15\n",
      "           5       0.44      1.00      0.61        11\n",
      "           6       0.96      0.54      0.69       532\n",
      "           7       0.39      0.84      0.53        32\n",
      "           8       0.45      0.79      0.58        19\n",
      "           9       0.56      0.82      0.67        17\n",
      "          10       0.27      0.70      0.39        10\n",
      "          11       0.62      0.91      0.74        11\n",
      "          12       0.30      0.65      0.41        26\n",
      "          13       0.44      0.80      0.57        10\n",
      "\n",
      "    accuracy                           0.62       750\n",
      "   macro avg       0.45      0.81      0.56       750\n",
      "weighted avg       0.80      0.62      0.65       750\n",
      "\n"
     ]
    },
    {
     "name": "stderr",
     "output_type": "stream",
     "text": [
      "/home/poorna/miniconda3/envs/lab/lib/python3.11/site-packages/sklearn/linear_model/_logistic.py:458: ConvergenceWarning: lbfgs failed to converge (status=1):\n",
      "STOP: TOTAL NO. of ITERATIONS REACHED LIMIT.\n",
      "\n",
      "Increase the number of iterations (max_iter) or scale the data as shown in:\n",
      "    https://scikit-learn.org/stable/modules/preprocessing.html\n",
      "Please also refer to the documentation for alternative solver options:\n",
      "    https://scikit-learn.org/stable/modules/linear_model.html#logistic-regression\n",
      "  n_iter_i = _check_optimize_result(\n"
     ]
    }
   ],
   "source": [
    "# # Use RandomForestClassifier\n",
    "# model.fit(x_4_train_pca, Y_4_train)\n",
    "\n",
    "# y_4_pred_after = model.predict(x_4_valid_pca)\n",
    "# print(classification_report(Y_4_valid, y_4_pred_after))"
   ]
  },
  {
   "cell_type": "code",
   "execution_count": 22,
   "id": "54c3a700",
   "metadata": {},
   "outputs": [
    {
     "data": {
      "text/plain": [
       "(279132, 38)"
      ]
     },
     "execution_count": 22,
     "metadata": {},
     "output_type": "execute_result"
    }
   ],
   "source": [
    "# x_4_train_pca.shape"
   ]
  },
  {
   "cell_type": "code",
   "execution_count": 15,
   "id": "a84db804",
   "metadata": {},
   "outputs": [],
   "source": [
    "param_grid = {\n",
    "    'C': [0.001, 0.01, 0.1, 1, 10],     # Regularization parameter\n",
    "    'penalty': ['l1', 'l2'],           # Regularization penalty ('l1' for L1 regularization, 'l2' for L2 regularization)\n",
    "    'solver': ['liblinear', 'saga'],   # Algorithm to use in the optimization problem\n",
    "}"
   ]
  },
  {
   "cell_type": "code",
   "execution_count": 16,
   "id": "a0c6a226",
   "metadata": {},
   "outputs": [],
   "source": [
    "# Create a GridSearchCV object with cross-validation (e.g., 5-fold cross-validation)\n",
    "grid_search = GridSearchCV(model, param_grid, cv=5, scoring='accuracy')"
   ]
  },
  {
   "cell_type": "code",
   "execution_count": null,
   "id": "6f198c06",
   "metadata": {},
   "outputs": [
    {
     "name": "stderr",
     "output_type": "stream",
     "text": [
      "/home/poorna/miniconda3/envs/lab/lib/python3.11/site-packages/sklearn/linear_model/_sag.py:350: ConvergenceWarning: The max_iter was reached which means the coef_ did not converge\n",
      "  warnings.warn(\n",
      "/home/poorna/miniconda3/envs/lab/lib/python3.11/site-packages/sklearn/linear_model/_sag.py:350: ConvergenceWarning: The max_iter was reached which means the coef_ did not converge\n",
      "  warnings.warn(\n",
      "/home/poorna/miniconda3/envs/lab/lib/python3.11/site-packages/sklearn/linear_model/_sag.py:350: ConvergenceWarning: The max_iter was reached which means the coef_ did not converge\n",
      "  warnings.warn(\n",
      "/home/poorna/miniconda3/envs/lab/lib/python3.11/site-packages/sklearn/linear_model/_sag.py:350: ConvergenceWarning: The max_iter was reached which means the coef_ did not converge\n",
      "  warnings.warn(\n",
      "/home/poorna/miniconda3/envs/lab/lib/python3.11/site-packages/sklearn/linear_model/_sag.py:350: ConvergenceWarning: The max_iter was reached which means the coef_ did not converge\n",
      "  warnings.warn(\n",
      "/home/poorna/miniconda3/envs/lab/lib/python3.11/site-packages/sklearn/linear_model/_sag.py:350: ConvergenceWarning: The max_iter was reached which means the coef_ did not converge\n",
      "  warnings.warn(\n",
      "/home/poorna/miniconda3/envs/lab/lib/python3.11/site-packages/sklearn/linear_model/_sag.py:350: ConvergenceWarning: The max_iter was reached which means the coef_ did not converge\n",
      "  warnings.warn(\n",
      "/home/poorna/miniconda3/envs/lab/lib/python3.11/site-packages/sklearn/linear_model/_sag.py:350: ConvergenceWarning: The max_iter was reached which means the coef_ did not converge\n",
      "  warnings.warn(\n",
      "/home/poorna/miniconda3/envs/lab/lib/python3.11/site-packages/sklearn/linear_model/_sag.py:350: ConvergenceWarning: The max_iter was reached which means the coef_ did not converge\n",
      "  warnings.warn(\n",
      "/home/poorna/miniconda3/envs/lab/lib/python3.11/site-packages/sklearn/linear_model/_sag.py:350: ConvergenceWarning: The max_iter was reached which means the coef_ did not converge\n",
      "  warnings.warn(\n",
      "/home/poorna/miniconda3/envs/lab/lib/python3.11/site-packages/sklearn/linear_model/_sag.py:350: ConvergenceWarning: The max_iter was reached which means the coef_ did not converge\n",
      "  warnings.warn(\n",
      "/home/poorna/miniconda3/envs/lab/lib/python3.11/site-packages/sklearn/linear_model/_sag.py:350: ConvergenceWarning: The max_iter was reached which means the coef_ did not converge\n",
      "  warnings.warn(\n",
      "/home/poorna/miniconda3/envs/lab/lib/python3.11/site-packages/sklearn/linear_model/_sag.py:350: ConvergenceWarning: The max_iter was reached which means the coef_ did not converge\n",
      "  warnings.warn(\n",
      "/home/poorna/miniconda3/envs/lab/lib/python3.11/site-packages/sklearn/linear_model/_sag.py:350: ConvergenceWarning: The max_iter was reached which means the coef_ did not converge\n",
      "  warnings.warn(\n",
      "/home/poorna/miniconda3/envs/lab/lib/python3.11/site-packages/sklearn/linear_model/_sag.py:350: ConvergenceWarning: The max_iter was reached which means the coef_ did not converge\n",
      "  warnings.warn(\n",
      "/home/poorna/miniconda3/envs/lab/lib/python3.11/site-packages/sklearn/linear_model/_sag.py:350: ConvergenceWarning: The max_iter was reached which means the coef_ did not converge\n",
      "  warnings.warn(\n",
      "/home/poorna/miniconda3/envs/lab/lib/python3.11/site-packages/sklearn/linear_model/_sag.py:350: ConvergenceWarning: The max_iter was reached which means the coef_ did not converge\n",
      "  warnings.warn(\n",
      "/home/poorna/miniconda3/envs/lab/lib/python3.11/site-packages/sklearn/linear_model/_sag.py:350: ConvergenceWarning: The max_iter was reached which means the coef_ did not converge\n",
      "  warnings.warn(\n",
      "/home/poorna/miniconda3/envs/lab/lib/python3.11/site-packages/sklearn/linear_model/_sag.py:350: ConvergenceWarning: The max_iter was reached which means the coef_ did not converge\n",
      "  warnings.warn(\n",
      "/home/poorna/miniconda3/envs/lab/lib/python3.11/site-packages/sklearn/linear_model/_sag.py:350: ConvergenceWarning: The max_iter was reached which means the coef_ did not converge\n",
      "  warnings.warn(\n",
      "/home/poorna/miniconda3/envs/lab/lib/python3.11/site-packages/sklearn/linear_model/_sag.py:350: ConvergenceWarning: The max_iter was reached which means the coef_ did not converge\n",
      "  warnings.warn(\n",
      "/home/poorna/miniconda3/envs/lab/lib/python3.11/site-packages/sklearn/linear_model/_sag.py:350: ConvergenceWarning: The max_iter was reached which means the coef_ did not converge\n",
      "  warnings.warn(\n",
      "/home/poorna/miniconda3/envs/lab/lib/python3.11/site-packages/sklearn/linear_model/_sag.py:350: ConvergenceWarning: The max_iter was reached which means the coef_ did not converge\n",
      "  warnings.warn(\n",
      "/home/poorna/miniconda3/envs/lab/lib/python3.11/site-packages/sklearn/linear_model/_sag.py:350: ConvergenceWarning: The max_iter was reached which means the coef_ did not converge\n",
      "  warnings.warn(\n",
      "/home/poorna/miniconda3/envs/lab/lib/python3.11/site-packages/sklearn/linear_model/_sag.py:350: ConvergenceWarning: The max_iter was reached which means the coef_ did not converge\n",
      "  warnings.warn(\n",
      "/home/poorna/miniconda3/envs/lab/lib/python3.11/site-packages/sklearn/linear_model/_sag.py:350: ConvergenceWarning: The max_iter was reached which means the coef_ did not converge\n",
      "  warnings.warn(\n",
      "/home/poorna/miniconda3/envs/lab/lib/python3.11/site-packages/sklearn/linear_model/_sag.py:350: ConvergenceWarning: The max_iter was reached which means the coef_ did not converge\n",
      "  warnings.warn(\n",
      "/home/poorna/miniconda3/envs/lab/lib/python3.11/site-packages/sklearn/linear_model/_sag.py:350: ConvergenceWarning: The max_iter was reached which means the coef_ did not converge\n",
      "  warnings.warn(\n",
      "/home/poorna/miniconda3/envs/lab/lib/python3.11/site-packages/sklearn/linear_model/_sag.py:350: ConvergenceWarning: The max_iter was reached which means the coef_ did not converge\n",
      "  warnings.warn(\n",
      "/home/poorna/miniconda3/envs/lab/lib/python3.11/site-packages/sklearn/linear_model/_sag.py:350: ConvergenceWarning: The max_iter was reached which means the coef_ did not converge\n",
      "  warnings.warn(\n"
     ]
    }
   ],
   "source": [
    "# Fit the GridSearchCV instance to the training data\n",
    "grid_search.fit(X_4_train, Y_4_train)"
   ]
  },
  {
   "cell_type": "code",
   "execution_count": null,
   "id": "07b12817",
   "metadata": {},
   "outputs": [],
   "source": [
    "# # Get the best hyperparameters and model\n",
    "# best_params = grid_search.best_params_\n",
    "# best_model = grid_search.best_estimator_"
   ]
  },
  {
   "cell_type": "code",
   "execution_count": null,
   "id": "45af3bd0",
   "metadata": {},
   "outputs": [],
   "source": [
    "# # Evaluate the best model on the test set\n",
    "# y_4_pred_after = best_model.predict(X_4_valid)\n",
    "# preds = best_model.predict(X_4_test)\n",
    "\n",
    "# print(\"Best Hyperparameters:\", best_params)\n",
    "# print(classification_report(Y_4_valid, y_4_pred_after))"
   ]
  },
  {
   "cell_type": "code",
   "execution_count": 14,
   "id": "cab18cb7",
   "metadata": {},
   "outputs": [],
   "source": [
    "data_frame = pd.DataFrame(preds_after_kbest, columns=[\"label_4\"])\n",
    "data_frame.to_csv(f\"190253K_4.csv\",na_rep='')"
   ]
  },
  {
   "cell_type": "code",
   "execution_count": null,
   "id": "77df45db-0d58-4ec5-bbec-bc3177536a88",
   "metadata": {},
   "outputs": [],
   "source": []
  }
 ],
 "metadata": {
  "kernelspec": {
   "display_name": "Python 3 (ipykernel)",
   "language": "python",
   "name": "python3"
  },
  "language_info": {
   "codemirror_mode": {
    "name": "ipython",
    "version": 3
   },
   "file_extension": ".py",
   "mimetype": "text/x-python",
   "name": "python",
   "nbconvert_exporter": "python",
   "pygments_lexer": "ipython3",
   "version": "3.11.4"
  }
 },
 "nbformat": 4,
 "nbformat_minor": 5
}
