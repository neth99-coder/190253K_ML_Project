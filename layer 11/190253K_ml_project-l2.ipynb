{
 "cells": [
  {
   "cell_type": "code",
   "execution_count": 1,
   "id": "33c64f14",
   "metadata": {},
   "outputs": [],
   "source": [
    "# import libraries\n",
    "import numpy as np\n",
    "import pandas as pd\n",
    "from sklearn.preprocessing import StandardScaler\n",
    "from sklearn.ensemble import RandomForestClassifier\n",
    "from sklearn.svm import SVC\n",
    "from sklearn.neighbors import KNeighborsClassifier\n",
    "from sklearn.svm import SVC\n",
    "from sklearn.feature_selection import SelectKBest\n",
    "from sklearn.feature_selection import f_classif\n",
    "from sklearn.model_selection import cross_val_score, GridSearchCV\n",
    "from sklearn.metrics import classification_report, mean_squared_error\n",
    "from sklearn.model_selection import RandomizedSearchCV\n",
    "from sklearn.decomposition import PCA\n",
    "from sklearn.impute import SimpleImputer\n",
    "import matplotlib.pyplot as plt"
   ]
  },
  {
   "cell_type": "code",
   "execution_count": 2,
   "id": "269a3281",
   "metadata": {},
   "outputs": [],
   "source": [
    "# read the test and train data files\n",
    "train_df = pd.read_csv(\"train.csv\")\n",
    "valid_df = pd.read_csv(\"valid.csv\")\n",
    "test_df = pd.read_csv(\"test.csv\")"
   ]
  },
  {
   "cell_type": "markdown",
   "id": "66555169",
   "metadata": {},
   "source": [
    "Label 2"
   ]
  },
  {
   "cell_type": "code",
   "execution_count": 3,
   "id": "e86f09d3",
   "metadata": {},
   "outputs": [],
   "source": [
    "train_2_df = train_df.iloc[:, :-2]\n",
    "valid_2_df = valid_df.iloc[:, :-2]\n",
    "test_2_df = test_df.iloc[:, 1:]\n",
    "\n",
    "train_2_df.drop(columns=[\"label_1\"], inplace=True)\n",
    "valid_2_df.drop(columns=[\"label_1\"], inplace=True)"
   ]
  },
  {
   "cell_type": "code",
   "execution_count": 4,
   "id": "77292568",
   "metadata": {},
   "outputs": [
    {
     "data": {
      "text/plain": [
       "feature_1        0\n",
       "feature_2        0\n",
       "feature_3        0\n",
       "feature_4        0\n",
       "feature_5        0\n",
       "              ... \n",
       "feature_765      0\n",
       "feature_766      0\n",
       "feature_767      0\n",
       "feature_768      0\n",
       "label_2        480\n",
       "Length: 769, dtype: int64"
      ]
     },
     "execution_count": 4,
     "metadata": {},
     "output_type": "execute_result"
    }
   ],
   "source": [
    "train_2_df.isna().sum()"
   ]
  },
  {
   "cell_type": "code",
   "execution_count": 5,
   "id": "c3f67605",
   "metadata": {},
   "outputs": [
    {
     "data": {
      "text/plain": [
       "feature_1       0\n",
       "feature_2       0\n",
       "feature_3       0\n",
       "feature_4       0\n",
       "feature_5       0\n",
       "               ..\n",
       "feature_765     0\n",
       "feature_766     0\n",
       "feature_767     0\n",
       "feature_768     0\n",
       "label_2        14\n",
       "Length: 769, dtype: int64"
      ]
     },
     "execution_count": 5,
     "metadata": {},
     "output_type": "execute_result"
    }
   ],
   "source": [
    "valid_2_df.isna().sum()"
   ]
  },
  {
   "cell_type": "code",
   "execution_count": 29,
   "id": "f703db06",
   "metadata": {},
   "outputs": [],
   "source": [
    "# splitting the test and train datasets into X and Y values\n",
    "X_2_train= train_2_df.iloc[:,0:-1].values\n",
    "Y_2_train = train_2_df.iloc[:,-1].values\n",
    "X_2_valid = valid_2_df.iloc[:,0:-1].values\n",
    "Y_2_valid = valid_2_df.iloc[:,-1].values\n",
    "X_2_test = test_2_df.iloc[:, :].values"
   ]
  },
  {
   "cell_type": "code",
   "execution_count": 30,
   "id": "a3ef19fc",
   "metadata": {},
   "outputs": [],
   "source": [
    "imputer = SimpleImputer(missing_values=np.nan, strategy='mean')\n",
    "Y_2_train = imputer.fit_transform(Y_2_train.reshape(-1, 1)).flatten().astype(int)"
   ]
  },
  {
   "cell_type": "code",
   "execution_count": 31,
   "id": "5b99c194",
   "metadata": {},
   "outputs": [],
   "source": [
    "imputer = SimpleImputer(missing_values=np.nan, strategy='mean')\n",
    "Y_2_valid = imputer.fit_transform(Y_2_valid.reshape(-1, 1)).flatten().astype(int)"
   ]
  },
  {
   "cell_type": "code",
   "execution_count": 32,
   "id": "78d0dd64",
   "metadata": {},
   "outputs": [],
   "source": [
    "# scalling and fitting data\n",
    "scaler = StandardScaler()\n",
    "scaler.fit(X_2_train)\n",
    "\n",
    "X_2_train = scaler.transform(X_2_train)\n",
    "X_2_valid = scaler.transform(X_2_valid)\n",
    "X_2_test = scaler.transform(X_2_test)"
   ]
  },
  {
   "cell_type": "code",
   "execution_count": 10,
   "id": "cf9b8827",
   "metadata": {},
   "outputs": [
    {
     "name": "stdout",
     "output_type": "stream",
     "text": [
      "Mean accuracy % of the model:  RandomForestClassifier() 34.65\n",
      "Mean accuracy % of the model:  SVC(kernel='linear') 50.39\n",
      "Mean accuracy % of the model:  KNeighborsClassifier() 49.45\n"
     ]
    }
   ],
   "source": [
    "# compare models using cross validation\n",
    "models = [RandomForestClassifier(), SVC(kernel='linear'), KNeighborsClassifier(n_neighbors=5)]\n",
    "\n",
    "for model in models:\n",
    "    cv_score = cross_val_score(model, X_2_train, Y_2_train, cv=5)\n",
    "    mean_accuracy = round((sum(cv_score)/len(cv_score))*100,2)\n",
    "    print(\"Mean accuracy % of the model: \", model, mean_accuracy)"
   ]
  },
  {
   "cell_type": "code",
   "execution_count": 67,
   "id": "81d1e670",
   "metadata": {
    "scrolled": true
   },
   "outputs": [
    {
     "data": {
      "text/html": [
       "<style>#sk-container-id-8 {color: black;background-color: white;}#sk-container-id-8 pre{padding: 0;}#sk-container-id-8 div.sk-toggleable {background-color: white;}#sk-container-id-8 label.sk-toggleable__label {cursor: pointer;display: block;width: 100%;margin-bottom: 0;padding: 0.3em;box-sizing: border-box;text-align: center;}#sk-container-id-8 label.sk-toggleable__label-arrow:before {content: \"▸\";float: left;margin-right: 0.25em;color: #696969;}#sk-container-id-8 label.sk-toggleable__label-arrow:hover:before {color: black;}#sk-container-id-8 div.sk-estimator:hover label.sk-toggleable__label-arrow:before {color: black;}#sk-container-id-8 div.sk-toggleable__content {max-height: 0;max-width: 0;overflow: hidden;text-align: left;background-color: #f0f8ff;}#sk-container-id-8 div.sk-toggleable__content pre {margin: 0.2em;color: black;border-radius: 0.25em;background-color: #f0f8ff;}#sk-container-id-8 input.sk-toggleable__control:checked~div.sk-toggleable__content {max-height: 200px;max-width: 100%;overflow: auto;}#sk-container-id-8 input.sk-toggleable__control:checked~label.sk-toggleable__label-arrow:before {content: \"▾\";}#sk-container-id-8 div.sk-estimator input.sk-toggleable__control:checked~label.sk-toggleable__label {background-color: #d4ebff;}#sk-container-id-8 div.sk-label input.sk-toggleable__control:checked~label.sk-toggleable__label {background-color: #d4ebff;}#sk-container-id-8 input.sk-hidden--visually {border: 0;clip: rect(1px 1px 1px 1px);clip: rect(1px, 1px, 1px, 1px);height: 1px;margin: -1px;overflow: hidden;padding: 0;position: absolute;width: 1px;}#sk-container-id-8 div.sk-estimator {font-family: monospace;background-color: #f0f8ff;border: 1px dotted black;border-radius: 0.25em;box-sizing: border-box;margin-bottom: 0.5em;}#sk-container-id-8 div.sk-estimator:hover {background-color: #d4ebff;}#sk-container-id-8 div.sk-parallel-item::after {content: \"\";width: 100%;border-bottom: 1px solid gray;flex-grow: 1;}#sk-container-id-8 div.sk-label:hover label.sk-toggleable__label {background-color: #d4ebff;}#sk-container-id-8 div.sk-serial::before {content: \"\";position: absolute;border-left: 1px solid gray;box-sizing: border-box;top: 0;bottom: 0;left: 50%;z-index: 0;}#sk-container-id-8 div.sk-serial {display: flex;flex-direction: column;align-items: center;background-color: white;padding-right: 0.2em;padding-left: 0.2em;position: relative;}#sk-container-id-8 div.sk-item {position: relative;z-index: 1;}#sk-container-id-8 div.sk-parallel {display: flex;align-items: stretch;justify-content: center;background-color: white;position: relative;}#sk-container-id-8 div.sk-item::before, #sk-container-id-8 div.sk-parallel-item::before {content: \"\";position: absolute;border-left: 1px solid gray;box-sizing: border-box;top: 0;bottom: 0;left: 50%;z-index: -1;}#sk-container-id-8 div.sk-parallel-item {display: flex;flex-direction: column;z-index: 1;position: relative;background-color: white;}#sk-container-id-8 div.sk-parallel-item:first-child::after {align-self: flex-end;width: 50%;}#sk-container-id-8 div.sk-parallel-item:last-child::after {align-self: flex-start;width: 50%;}#sk-container-id-8 div.sk-parallel-item:only-child::after {width: 0;}#sk-container-id-8 div.sk-dashed-wrapped {border: 1px dashed gray;margin: 0 0.4em 0.5em 0.4em;box-sizing: border-box;padding-bottom: 0.4em;background-color: white;}#sk-container-id-8 div.sk-label label {font-family: monospace;font-weight: bold;display: inline-block;line-height: 1.2em;}#sk-container-id-8 div.sk-label-container {text-align: center;}#sk-container-id-8 div.sk-container {/* jupyter's `normalize.less` sets `[hidden] { display: none; }` but bootstrap.min.css set `[hidden] { display: none !important; }` so we also need the `!important` here to be able to override the default hidden behavior on the sphinx rendered scikit-learn.org. See: https://github.com/scikit-learn/scikit-learn/issues/21755 */display: inline-block !important;position: relative;}#sk-container-id-8 div.sk-text-repr-fallback {display: none;}</style><div id=\"sk-container-id-8\" class=\"sk-top-container\"><div class=\"sk-text-repr-fallback\"><pre>SVC()</pre><b>In a Jupyter environment, please rerun this cell to show the HTML representation or trust the notebook. <br />On GitHub, the HTML representation is unable to render, please try loading this page with nbviewer.org.</b></div><div class=\"sk-container\" hidden><div class=\"sk-item\"><div class=\"sk-estimator sk-toggleable\"><input class=\"sk-toggleable__control sk-hidden--visually\" id=\"sk-estimator-id-10\" type=\"checkbox\" checked><label for=\"sk-estimator-id-10\" class=\"sk-toggleable__label sk-toggleable__label-arrow\">SVC</label><div class=\"sk-toggleable__content\"><pre>SVC()</pre></div></div></div></div></div>"
      ],
      "text/plain": [
       "SVC()"
      ]
     },
     "execution_count": 67,
     "metadata": {},
     "output_type": "execute_result"
    }
   ],
   "source": [
    "# Use SVC since it has the highest accuracy\n",
    "model = SVC()\n",
    "model.fit(X_2_train, Y_2_train)"
   ]
  },
  {
   "cell_type": "code",
   "execution_count": 68,
   "id": "87d142e7",
   "metadata": {
    "scrolled": true
   },
   "outputs": [
    {
     "name": "stdout",
     "output_type": "stream",
     "text": [
      "              precision    recall  f1-score   support\n",
      "\n",
      "          22       0.88      0.81      0.84        36\n",
      "          23       0.92      0.80      0.86        71\n",
      "          24       0.85      0.87      0.86        46\n",
      "          25       0.92      0.73      0.82        79\n",
      "          26       0.66      0.97      0.79       115\n",
      "          27       0.64      0.80      0.71        81\n",
      "          28       0.95      0.65      0.77        60\n",
      "          29       0.95      0.84      0.89        45\n",
      "          30       0.98      0.83      0.90        48\n",
      "          31       0.83      0.85      0.84        65\n",
      "          32       1.00      0.64      0.78        11\n",
      "          33       1.00      0.80      0.89        30\n",
      "          34       1.00      0.91      0.95        11\n",
      "          35       1.00      0.91      0.95        11\n",
      "          36       1.00      1.00      1.00         8\n",
      "          41       0.90      0.64      0.75        14\n",
      "          61       1.00      0.89      0.94        19\n",
      "\n",
      "    accuracy                           0.82       750\n",
      "   macro avg       0.91      0.82      0.86       750\n",
      "weighted avg       0.85      0.82      0.83       750\n",
      "\n"
     ]
    }
   ],
   "source": [
    "y_2_valid_pred = model.predict(X_2_valid)\n",
    "y_2_test_pred = model.predict(X_2_test)\n",
    "print(classification_report(Y_2_valid, y_2_valid_pred))"
   ]
  },
  {
   "cell_type": "code",
   "execution_count": 69,
   "id": "dcf159ae",
   "metadata": {},
   "outputs": [],
   "source": [
    "# Create a SelectKBest instance with f_classif scoring function and select top 2 features\n",
    "k = 250\n",
    "selector = SelectKBest(score_func=f_classif, k=k)\n",
    "\n",
    "# Fit and transform the data\n",
    "X_2_best_train = selector.fit_transform(X_2_train, Y_2_train)\n",
    "X_2_best_valid = selector.transform(X_2_valid)\n",
    "X_2_best_test = selector.transform(X_2_test)"
   ]
  },
  {
   "cell_type": "code",
   "execution_count": 70,
   "id": "5c1dbaad",
   "metadata": {},
   "outputs": [
    {
     "data": {
      "text/plain": [
       "(28520, 250)"
      ]
     },
     "execution_count": 70,
     "metadata": {},
     "output_type": "execute_result"
    }
   ],
   "source": [
    "X_2_best_train.shape"
   ]
  },
  {
   "cell_type": "code",
   "execution_count": 71,
   "id": "fea662a9",
   "metadata": {},
   "outputs": [
    {
     "name": "stdout",
     "output_type": "stream",
     "text": [
      "              precision    recall  f1-score   support\n",
      "\n",
      "          22       0.85      0.81      0.83        36\n",
      "          23       0.86      0.79      0.82        71\n",
      "          24       0.87      0.87      0.87        46\n",
      "          25       0.94      0.73      0.82        79\n",
      "          26       0.66      0.98      0.79       115\n",
      "          27       0.64      0.78      0.70        81\n",
      "          28       0.95      0.60      0.73        60\n",
      "          29       0.95      0.84      0.89        45\n",
      "          30       0.93      0.81      0.87        48\n",
      "          31       0.82      0.83      0.82        65\n",
      "          32       1.00      0.64      0.78        11\n",
      "          33       1.00      0.83      0.91        30\n",
      "          34       0.91      0.91      0.91        11\n",
      "          35       1.00      0.91      0.95        11\n",
      "          36       1.00      1.00      1.00         8\n",
      "          41       0.82      0.64      0.72        14\n",
      "          61       1.00      0.89      0.94        19\n",
      "\n",
      "    accuracy                           0.82       750\n",
      "   macro avg       0.89      0.82      0.85       750\n",
      "weighted avg       0.84      0.82      0.82       750\n",
      "\n"
     ]
    }
   ],
   "source": [
    "model.fit(X_2_best_train, Y_2_train)\n",
    "y_2_pred_after = model.predict(X_2_best_valid)\n",
    "print(classification_report(Y_2_valid, y_2_pred_after))"
   ]
  },
  {
   "cell_type": "code",
   "execution_count": 72,
   "id": "402cf5e2",
   "metadata": {},
   "outputs": [],
   "source": [
    "pca=PCA(0.99)\n",
    "pca = pca.fit(X_2_train)\n",
    "\n",
    "x_2_train_pca=pca.fit_transform(X_2_best_train)\n",
    "x_2_valid_pca = pca.transform(X_2_best_valid)\n",
    "x_2_test_pca = pca.transform(X_2_best_test)"
   ]
  },
  {
   "cell_type": "code",
   "execution_count": 73,
   "id": "19202560",
   "metadata": {
    "scrolled": true
   },
   "outputs": [
    {
     "name": "stdout",
     "output_type": "stream",
     "text": [
      "              precision    recall  f1-score   support\n",
      "\n",
      "          22       0.82      0.78      0.80        36\n",
      "          23       0.86      0.76      0.81        71\n",
      "          24       0.89      0.85      0.87        46\n",
      "          25       0.92      0.70      0.79        79\n",
      "          26       0.66      0.97      0.79       115\n",
      "          27       0.61      0.79      0.69        81\n",
      "          28       0.95      0.60      0.73        60\n",
      "          29       0.93      0.87      0.90        45\n",
      "          30       0.91      0.81      0.86        48\n",
      "          31       0.83      0.82      0.82        65\n",
      "          32       1.00      0.55      0.71        11\n",
      "          33       1.00      0.83      0.91        30\n",
      "          34       1.00      0.91      0.95        11\n",
      "          35       1.00      0.91      0.95        11\n",
      "          36       1.00      1.00      1.00         8\n",
      "          41       0.82      0.64      0.72        14\n",
      "          61       1.00      0.89      0.94        19\n",
      "\n",
      "    accuracy                           0.81       750\n",
      "   macro avg       0.89      0.80      0.84       750\n",
      "weighted avg       0.84      0.81      0.81       750\n",
      "\n"
     ]
    }
   ],
   "source": [
    "# Use KNeighborsClassifier\n",
    "model.fit(x_2_train_pca, Y_2_train)\n",
    "\n",
    "y_2_pred_after = model.predict(x_2_valid_pca)\n",
    "print(classification_report(Y_2_valid, y_2_pred_after))"
   ]
  },
  {
   "cell_type": "code",
   "execution_count": 74,
   "id": "93c93022",
   "metadata": {},
   "outputs": [
    {
     "data": {
      "text/plain": [
       "(28520, 196)"
      ]
     },
     "execution_count": 74,
     "metadata": {},
     "output_type": "execute_result"
    }
   ],
   "source": [
    "x_2_train_pca.shape"
   ]
  },
  {
   "cell_type": "code",
   "execution_count": 75,
   "id": "fd553c59",
   "metadata": {},
   "outputs": [],
   "source": [
    "param_grid = {\n",
    "    'C': [0.1, 1, 10],          # Regularization parameter\n",
    "    'kernel': ['linear', 'rbf'],  # Kernel type\n",
    "    'gamma': ['scale', 'auto']   # Kernel coefficient for 'rbf' kernel\n",
    "}\n"
   ]
  },
  {
   "cell_type": "code",
   "execution_count": 76,
   "id": "3e5f179e",
   "metadata": {},
   "outputs": [],
   "source": [
    "# Create a GridSearchCV object with cross-validation (e.g., 5-fold cross-validation)\n",
    "grid_search = GridSearchCV(estimator=model, param_grid=param_grid, cv=5, scoring='accuracy')"
   ]
  },
  {
   "cell_type": "code",
   "execution_count": 77,
   "id": "f796ab9b",
   "metadata": {},
   "outputs": [
    {
     "data": {
      "text/html": [
       "<style>#sk-container-id-9 {color: black;background-color: white;}#sk-container-id-9 pre{padding: 0;}#sk-container-id-9 div.sk-toggleable {background-color: white;}#sk-container-id-9 label.sk-toggleable__label {cursor: pointer;display: block;width: 100%;margin-bottom: 0;padding: 0.3em;box-sizing: border-box;text-align: center;}#sk-container-id-9 label.sk-toggleable__label-arrow:before {content: \"▸\";float: left;margin-right: 0.25em;color: #696969;}#sk-container-id-9 label.sk-toggleable__label-arrow:hover:before {color: black;}#sk-container-id-9 div.sk-estimator:hover label.sk-toggleable__label-arrow:before {color: black;}#sk-container-id-9 div.sk-toggleable__content {max-height: 0;max-width: 0;overflow: hidden;text-align: left;background-color: #f0f8ff;}#sk-container-id-9 div.sk-toggleable__content pre {margin: 0.2em;color: black;border-radius: 0.25em;background-color: #f0f8ff;}#sk-container-id-9 input.sk-toggleable__control:checked~div.sk-toggleable__content {max-height: 200px;max-width: 100%;overflow: auto;}#sk-container-id-9 input.sk-toggleable__control:checked~label.sk-toggleable__label-arrow:before {content: \"▾\";}#sk-container-id-9 div.sk-estimator input.sk-toggleable__control:checked~label.sk-toggleable__label {background-color: #d4ebff;}#sk-container-id-9 div.sk-label input.sk-toggleable__control:checked~label.sk-toggleable__label {background-color: #d4ebff;}#sk-container-id-9 input.sk-hidden--visually {border: 0;clip: rect(1px 1px 1px 1px);clip: rect(1px, 1px, 1px, 1px);height: 1px;margin: -1px;overflow: hidden;padding: 0;position: absolute;width: 1px;}#sk-container-id-9 div.sk-estimator {font-family: monospace;background-color: #f0f8ff;border: 1px dotted black;border-radius: 0.25em;box-sizing: border-box;margin-bottom: 0.5em;}#sk-container-id-9 div.sk-estimator:hover {background-color: #d4ebff;}#sk-container-id-9 div.sk-parallel-item::after {content: \"\";width: 100%;border-bottom: 1px solid gray;flex-grow: 1;}#sk-container-id-9 div.sk-label:hover label.sk-toggleable__label {background-color: #d4ebff;}#sk-container-id-9 div.sk-serial::before {content: \"\";position: absolute;border-left: 1px solid gray;box-sizing: border-box;top: 0;bottom: 0;left: 50%;z-index: 0;}#sk-container-id-9 div.sk-serial {display: flex;flex-direction: column;align-items: center;background-color: white;padding-right: 0.2em;padding-left: 0.2em;position: relative;}#sk-container-id-9 div.sk-item {position: relative;z-index: 1;}#sk-container-id-9 div.sk-parallel {display: flex;align-items: stretch;justify-content: center;background-color: white;position: relative;}#sk-container-id-9 div.sk-item::before, #sk-container-id-9 div.sk-parallel-item::before {content: \"\";position: absolute;border-left: 1px solid gray;box-sizing: border-box;top: 0;bottom: 0;left: 50%;z-index: -1;}#sk-container-id-9 div.sk-parallel-item {display: flex;flex-direction: column;z-index: 1;position: relative;background-color: white;}#sk-container-id-9 div.sk-parallel-item:first-child::after {align-self: flex-end;width: 50%;}#sk-container-id-9 div.sk-parallel-item:last-child::after {align-self: flex-start;width: 50%;}#sk-container-id-9 div.sk-parallel-item:only-child::after {width: 0;}#sk-container-id-9 div.sk-dashed-wrapped {border: 1px dashed gray;margin: 0 0.4em 0.5em 0.4em;box-sizing: border-box;padding-bottom: 0.4em;background-color: white;}#sk-container-id-9 div.sk-label label {font-family: monospace;font-weight: bold;display: inline-block;line-height: 1.2em;}#sk-container-id-9 div.sk-label-container {text-align: center;}#sk-container-id-9 div.sk-container {/* jupyter's `normalize.less` sets `[hidden] { display: none; }` but bootstrap.min.css set `[hidden] { display: none !important; }` so we also need the `!important` here to be able to override the default hidden behavior on the sphinx rendered scikit-learn.org. See: https://github.com/scikit-learn/scikit-learn/issues/21755 */display: inline-block !important;position: relative;}#sk-container-id-9 div.sk-text-repr-fallback {display: none;}</style><div id=\"sk-container-id-9\" class=\"sk-top-container\"><div class=\"sk-text-repr-fallback\"><pre>GridSearchCV(cv=5, estimator=SVC(),\n",
       "             param_grid={&#x27;C&#x27;: [0.1, 1, 10], &#x27;gamma&#x27;: [&#x27;scale&#x27;, &#x27;auto&#x27;],\n",
       "                         &#x27;kernel&#x27;: [&#x27;linear&#x27;, &#x27;rbf&#x27;]},\n",
       "             scoring=&#x27;accuracy&#x27;)</pre><b>In a Jupyter environment, please rerun this cell to show the HTML representation or trust the notebook. <br />On GitHub, the HTML representation is unable to render, please try loading this page with nbviewer.org.</b></div><div class=\"sk-container\" hidden><div class=\"sk-item sk-dashed-wrapped\"><div class=\"sk-label-container\"><div class=\"sk-label sk-toggleable\"><input class=\"sk-toggleable__control sk-hidden--visually\" id=\"sk-estimator-id-11\" type=\"checkbox\" ><label for=\"sk-estimator-id-11\" class=\"sk-toggleable__label sk-toggleable__label-arrow\">GridSearchCV</label><div class=\"sk-toggleable__content\"><pre>GridSearchCV(cv=5, estimator=SVC(),\n",
       "             param_grid={&#x27;C&#x27;: [0.1, 1, 10], &#x27;gamma&#x27;: [&#x27;scale&#x27;, &#x27;auto&#x27;],\n",
       "                         &#x27;kernel&#x27;: [&#x27;linear&#x27;, &#x27;rbf&#x27;]},\n",
       "             scoring=&#x27;accuracy&#x27;)</pre></div></div></div><div class=\"sk-parallel\"><div class=\"sk-parallel-item\"><div class=\"sk-item\"><div class=\"sk-label-container\"><div class=\"sk-label sk-toggleable\"><input class=\"sk-toggleable__control sk-hidden--visually\" id=\"sk-estimator-id-12\" type=\"checkbox\" ><label for=\"sk-estimator-id-12\" class=\"sk-toggleable__label sk-toggleable__label-arrow\">estimator: SVC</label><div class=\"sk-toggleable__content\"><pre>SVC()</pre></div></div></div><div class=\"sk-serial\"><div class=\"sk-item\"><div class=\"sk-estimator sk-toggleable\"><input class=\"sk-toggleable__control sk-hidden--visually\" id=\"sk-estimator-id-13\" type=\"checkbox\" ><label for=\"sk-estimator-id-13\" class=\"sk-toggleable__label sk-toggleable__label-arrow\">SVC</label><div class=\"sk-toggleable__content\"><pre>SVC()</pre></div></div></div></div></div></div></div></div></div></div>"
      ],
      "text/plain": [
       "GridSearchCV(cv=5, estimator=SVC(),\n",
       "             param_grid={'C': [0.1, 1, 10], 'gamma': ['scale', 'auto'],\n",
       "                         'kernel': ['linear', 'rbf']},\n",
       "             scoring='accuracy')"
      ]
     },
     "execution_count": 77,
     "metadata": {},
     "output_type": "execute_result"
    }
   ],
   "source": [
    "# Fit the GridSearchCV instance to the training data\n",
    "grid_search.fit(x_2_train_pca, Y_2_train)"
   ]
  },
  {
   "cell_type": "code",
   "execution_count": 78,
   "id": "eab780ca",
   "metadata": {},
   "outputs": [],
   "source": [
    "# Get the best hyperparameters and model\n",
    "best_params = grid_search.best_params_\n",
    "best_model = grid_search.best_estimator_"
   ]
  },
  {
   "cell_type": "code",
   "execution_count": null,
   "id": "f71e6c76",
   "metadata": {},
   "outputs": [],
   "source": [
    "# Evaluate the best model on the test set\n",
    "y_2_pred_after = best_model.predict(x_2_valid_pca)\n",
    "preds = best_model.predict(x_2_test_pca)\n",
    "\n",
    "print(\"Best Hyperparameters:\", best_params)\n",
    "print(classification_report(Y_2_valid, y_2_pred_after))"
   ]
  },
  {
   "cell_type": "code",
   "execution_count": 26,
   "id": "55423f02",
   "metadata": {},
   "outputs": [],
   "source": [
    "data_frame = pd.DataFrame(preds, columns=[\"label_2\"])\n",
    "data_frame.to_csv(f\"190253K_2.csv\",na_rep='')"
   ]
  },
  {
   "cell_type": "code",
   "execution_count": null,
   "id": "68a1fbdc",
   "metadata": {},
   "outputs": [],
   "source": []
  }
 ],
 "metadata": {
  "kernelspec": {
   "display_name": "Python 3 (ipykernel)",
   "language": "python",
   "name": "python3"
  },
  "language_info": {
   "codemirror_mode": {
    "name": "ipython",
    "version": 3
   },
   "file_extension": ".py",
   "mimetype": "text/x-python",
   "name": "python",
   "nbconvert_exporter": "python",
   "pygments_lexer": "ipython3",
   "version": "3.11.4"
  }
 },
 "nbformat": 4,
 "nbformat_minor": 5
}
